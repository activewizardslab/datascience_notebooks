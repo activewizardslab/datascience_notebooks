{
 "cells": [
  {
   "cell_type": "code",
   "execution_count": 1,
   "metadata": {
    "collapsed": false
   },
   "outputs": [
    {
     "name": "stdout",
     "output_type": "stream",
     "text": [
      "* Offer at 13 pct premium to Asciano's Friday price\n",
      "(Recasts throughout; adds analyst and company quotes)\n",
      "SYDNEY, Aug 18 (Reuters) - Canada's Brookfield Asset\n",
      "Management is buying Australian port and rail freight\n",
      "firm Asciano for $6.6 billion to form a global\n",
      "logistics player, scooping up an asset that has been made\n",
      "cheaper by a slump in coal prices.\n",
      "After slumping to 8-year lows, the coal price CO-FOBNWC-AU\n",
      "will probably stop falling soon and a lower Australian dollar\n",
      "means coal producers \"are probably in better condition today\n",
      "than they were a year ago\", Brookfield's infrastructure chief\n",
      "executive, Sam Pollock, told journalists in Sydney.\n",
      "Asciano's shares have traded below Brookfield's offer price\n",
      "since it first disclosed the Canadian company's approach on July\n",
      "1.\n",
      "\"You've got currency risk and the risk of where those\n",
      "Brookfield shares will trade,\" said Morningstar analyst Ross\n",
      "MacMillan, noting that the cash and scrip offer is expected to\n",
      "close in December.\n"
     ]
    }
   ],
   "source": [
    "# -*- coding: utf8 -*-\n",
    "\n",
    "from __future__ import absolute_import\n",
    "from __future__ import division, print_function, unicode_literals\n",
    "\n",
    "from sumy.parsers.html import HtmlParser\n",
    "from sumy.parsers.plaintext import PlaintextParser\n",
    "from sumy.nlp.tokenizers import Tokenizer\n",
    "from sumy.summarizers.lsa import LsaSummarizer as Summarizer\n",
    "from sumy.nlp.stemmers import Stemmer\n",
    "from sumy.utils import get_stop_words\n",
    "from sumy.summarizers.lex_rank import LexRankSummarizer #We're choosing Lexrank, other algorithms are also built in\n",
    "from sumy.summarizers.luhn import LuhnSummarizer\n",
    "from sumy.summarizers.text_rank import TextRankSummarizer\n",
    "from sumy.summarizers.lsa import LsaSummarizer\n",
    "\n",
    "SENTENCES_COUNT = 5\n",
    "\n",
    "if __name__ == \"__main__\":\n",
    "    url = \"http://www.reuters.com/article/2015/08/18/asciano-ma-brookfield-asset-idUSL3N10S45820150818\"\n",
    "    parser = HtmlParser.from_url(url, Tokenizer(\"english\"))\n",
    "    stemmer = Stemmer('english')\n",
    "    summarizer = Summarizer(stemmer)\n",
    "    summarizer.stop_words = get_stop_words(\"english\")\n",
    "#    summarizer = TextRankSummarizer()\n",
    "#    summarizer = LuhnSummarizer()\n",
    "    summarizer = LsaSummarizer()\n",
    "#    summarizer = LexRankSummarizer()\n",
    "    for s in summarizer(parser.document, 5):\n",
    "        print (s)"
   ]
  },
  {
   "cell_type": "code",
   "execution_count": 2,
   "metadata": {
    "collapsed": false
   },
   "outputs": [
    {
     "name": "stdout",
     "output_type": "stream",
     "text": [
      "UPDATE 5-Canada's Brookfield buying Australia freight firm Asciano for $6.6 bln\n",
      "2015-08-18 00:00:00\n",
      "The deal, the largest purchase of an Australian firm by an overseas entity since 2011 and the biggest acquisition by a Canadian firm in that country, underscores the huge international appetite for Australian infrastructure.\n",
      "Asciano's shares have traded below Brookfield's offer price since it first disclosed the Canadian company's approach on July 1.\n",
      "It also casts a vote of confidence in the long-term future of the Australian coal industry, which is expected to defy global pressure on high polluting energy sources and grow exports in the years ahead.\n",
      "On Tuesday, the shares rose nearly 8 percent to an intra-day peak of A$8.75, their highest since 2008, but still below the offer price of A$9.15.\n",
      "\"You've got currency risk and the risk of where those Brookfield shares will trade,\" said Morningstar analyst Ross MacMillan, noting that the cash and scrip offer is expected to close in December.\n"
     ]
    }
   ],
   "source": [
    "import newspaper\n",
    "\n",
    "url = \"http://www.reuters.com/article/2015/08/18/asciano-ma-brookfield-asset-idUSL3N10S45820150818\"\n",
    "\n",
    "article = newspaper.Article(url, fetch_images=False)\n",
    "article.download()\n",
    "article.parse()\n",
    "article.nlp()\n",
    "\n",
    "print (article.title)\n",
    "print (article.publish_date)\n",
    "print (article.summary)"
   ]
  },
  {
   "cell_type": "code",
   "execution_count": 6,
   "metadata": {
    "collapsed": false
   },
   "outputs": [
    {
     "name": "stdout",
     "output_type": "stream",
     "text": [
      "\n",
      "Your available languages are:\n",
      "\n",
      "input code\t\tfull name\n",
      "  es\t\t\t  Spanish\n",
      "  nb\t\t\t  Norwegian (Bokmål)\n",
      "  fr\t\t\t  French\n",
      "  de\t\t\t  German\n",
      "  it\t\t\t  Italian\n",
      "  zh\t\t\t  Chinese\n",
      "  da\t\t\t  Danish\n",
      "  ru\t\t\t  Russian\n",
      "  nl\t\t\t  Dutch\n",
      "  ar\t\t\t  Arabic\n",
      "  fi\t\t\t  Finnish\n",
      "  en\t\t\t  English\n",
      "  hu\t\t\t  Hungarian\n",
      "  no\t\t\t  Norwegian\n",
      "  vi\t\t\t  Vietnamese\n",
      "  ko\t\t\t  Korean\n",
      "  id\t\t\t  Indonesian\n",
      "  pt\t\t\t  Portuguese\n",
      "  sv\t\t\t  Swedish\n",
      "\n",
      "None\n",
      "725\n",
      "港特首梁振英就住宅违建事件道歉\n",
      "[]\n",
      "697\n",
      "香港行政长官梁振英在各方压力下就其大宅的违章建筑（僭建）问题到立法会接受质询，并向香港民众道歉。梁振英此前承认早在去年参选行政长官之前就已知悉其住宅的违建问题，引发诚信危机。梁振英在星期二（12月10日）的答问大会开始之际在其演说中道歉，但强调他在违章建筑问题上没有隐瞒的意图和动机。不过泛民主派议员们普遍指责梁振英撒谎，要求他马上辞职下台。一些亲北京阵营议员欢迎梁振英道歉，且认为应能获得香港民众接受，但这些议员也质问梁振英有否向执法部门施压。梁振英强调承诺将在两周内解决其住宅的违建问题。郑重道歉香港媒体于6月份曝光梁振英大宅的首批违建部分后，于3月的选举中被击败的民主党参选人何俊仁向法院提出选举呈请，至11月中旬被终审法院驳回。梁振英说，其位于太平山山顶的住宅内的违建部分大都不是由他所建，此前没有马上公开交待和处理，是因为律师意见认为司法程序仍在进行，他不应评论。梁振英在接受质询前的发言中说：回顾事件，我虽然从无任何存心隐瞒的意图，但必须承认自己有处理疏忽及交代不清之处，为此我再次向市民郑重道歉。梁振英在选举中还击败了曾是自由党党员的前政务司司长唐英年。在回答自由党议员的提问时，梁振英称，他从未说过其房产不存在违建问题。现为间选议员的何俊仁说，梁振英至今仍不坦诚以对，让他震惊；亲北京政团工联会直选议员黄国健也批评梁振英抱着不服输的态度接受质询。历时1.5小时的答问大会在进入中段之际，泛民主派人民力量的直选议员黄毓民、陈伟业和社会民主连线的梁国雄先后因播放录音、叫嚣，和向梁振英扔掷文件而被议长驱逐。民主党此前计划在星期三（11日）对梁振英提出不信任动议。\n"
     ]
    }
   ],
   "source": [
    "print (newspaper.languages())\n",
    "\n",
    "url = \"http://www.bbc.co.uk/zhongwen/simp/chinese_news/2012/12/121210_hongkong_politics.shtml\"\n",
    "\n",
    "article = newspaper.Article(url, language='zh')\n",
    "article.download()\n",
    "article.parse()\n",
    "article.nlp()\n",
    "print (len(article.text))\n",
    "print (article.title)\n",
    "\n",
    "print (article.authors)\n",
    "print (len(article.summary))\n",
    "print (article.summary)"
   ]
  }
 ],
 "metadata": {
  "kernelspec": {
   "display_name": "Python 3",
   "language": "python",
   "name": "python3"
  },
  "language_info": {
   "codemirror_mode": {
    "name": "ipython",
    "version": 3
   },
   "file_extension": ".py",
   "mimetype": "text/x-python",
   "name": "python",
   "nbconvert_exporter": "python",
   "pygments_lexer": "ipython3",
   "version": "3.4.3"
  }
 },
 "nbformat": 4,
 "nbformat_minor": 0
}
