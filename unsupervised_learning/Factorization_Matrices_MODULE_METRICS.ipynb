{
 "cells": [
  {
   "cell_type": "code",
   "execution_count": null,
   "metadata": {
    "collapsed": false,
    "deletable": true,
    "editable": true
   },
   "outputs": [],
   "source": [
    "from pyspark.sql import Row, DataFrame, HiveContext\n",
    "import pyspark.sql.functions as F\n",
    "from pyspark.sql.types import *\n",
    "from pyspark.ml.feature import StringIndexer\n",
    "\n",
    "sqlContext_H = HiveContext(sc)\n",
    "\n",
    "from scipy.sparse import lil_matrix\n",
    "\n",
    "from sklearn.decomposition import TruncatedSVD\n",
    "from sklearn.metrics.pairwise import cosine_similarity\n",
    "\n",
    "import pandas as pd\n",
    "pd.set_option('display.max_columns', None)\n",
    "pd.set_option('display.max_rows', None)\n",
    "pd.set_option('display.max_colwidth', 250)\n",
    "\n",
    "import numpy as np\n",
    "import copy\n",
    "from collections import OrderedDict\n",
    "\n",
    "import matplotlib.pyplot as plt\n",
    "from mpl_toolkits.mplot3d import Axes3D\n",
    "%matplotlib inline"
   ]
  },
  {
   "cell_type": "markdown",
   "metadata": {
    "collapsed": true,
    "deletable": true,
    "editable": true
   },
   "source": [
    "---\n",
    "\n",
    "---\n",
    "\n",
    "# Factorization\n",
    "\n",
    "### Read data of the 7th month"
   ]
  },
  {
   "cell_type": "code",
   "execution_count": null,
   "metadata": {
    "collapsed": false,
    "deletable": true,
    "editable": true
   },
   "outputs": [],
   "source": [
    "fields_list = ( \"ACCESS_DTTM\", \"MODULE\", \"USER_ID\" )\n",
    "data = sqlContext_H.read.parquet( HOST + \"/parquet2/07/*\" ).select(*fields_list).persist()\n",
    "sqlContext_H.registerDataFrameAsTable(data, 'data')    \n",
    "data.limit(5).toPandas()"
   ]
  },
  {
   "cell_type": "code",
   "execution_count": null,
   "metadata": {
    "collapsed": false,
    "deletable": true,
    "editable": true
   },
   "outputs": [],
   "source": [
    "%%time\n",
    "\n",
    "# 1. Count all unique users of the defined month\n",
    "total_users = sc.textFile(HOST + \"/csv/unique_users_7.csv\").count()\n",
    "\n",
    "\n",
    "# 2. Calculate tf\n",
    "query = lambda total_users: \"\"\"\n",
    "    SELECT T1.USER_ID, T1.MODULE, T1.AMOUNT*1.0 / T2.TOTAL AS TF \n",
    "    FROM (SELECT USER_ID, MODULE, COUNT(ACCESS_DTTM) AS AMOUNT\n",
    "        FROM data\n",
    "        GROUP BY USER_ID, MODULE\n",
    "    ) AS T1\n",
    "    JOIN (SELECT USER_ID, COUNT(ACCESS_DTTM) AS TOTAL\n",
    "        FROM data\n",
    "        GROUP BY USER_ID\n",
    "    ) AS T2\n",
    "    ON T1.USER_ID = T2.USER_ID\n",
    "\"\"\".format(total_users=total_users)\n",
    "\n",
    "res = sqlContext_H.sql(query(total_users)).persist()\n",
    "# 3. Encode a string column of labels to a column of label indices\n",
    "all_users = sqlContext_H.createDataFrame( \n",
    "        sc.textFile(HOST + \"/csv/unique_users.csv\").map(lambda p: Row(USER_ID=p)) \n",
    "    ).union( sqlContext_H.createDataFrame([Row(USER_ID='')]) ).persist()\n",
    "\n",
    "try:\n",
    "    all_modules = sqlContext_H.createDataFrame( \n",
    "            sc.textFile(HOST + \"/csv/unique_modules.csv\").map(lambda p: Row(MODULE=p)) \n",
    "        ).union( sqlContext_H.createDataFrame([Row(MODULE='')]) ).persist()\n",
    "except:\n",
    "    all_modules = sqlContext_H.read.parquet( \n",
    "            HOST + \"/parquet2/07/*\",\n",
    "            HOST + \"/parquet2/08/*\",\n",
    "            HOST + \"/parquet2/09/*\"\n",
    "        ).select(\"MODULE\").distinct().persist()\n",
    "    all_modules.write.format(\"com.databricks.spark.csv\").mode('overwrite').save(HOST + \"/csv/unique_modules.csv\")\n",
    "    all_modules = all_modules.union( sqlContext_H.createDataFrame([Row(MODULE='')]) )\n",
    "    print \"MODULEs = \", all_modules.count()\n",
    "\n",
    "indexerU = StringIndexer(inputCol=\"USER_ID\", outputCol=\"USER_ID_Index\").fit(all_users)\n",
    "indexerM = StringIndexer(inputCol=\"MODULE\", outputCol=\"MODULE_Index\").fit(all_modules)\n",
    "\n",
    "all_users.unpersist()\n",
    "all_modules.unpersist()\n",
    "\n",
    "indexedU_df = indexerU.transform(res).withColumn(\n",
    "        \"USER_ID_Index\", F.col(\"USER_ID_Index\").cast(IntegerType())\n",
    "    ).persist()\n",
    "\n",
    "table = indexerM.transform(indexedU_df).withColumn(\n",
    "        \"MODULE_Index\", F.col(\"MODULE_Index\").cast(IntegerType())\n",
    "    ).persist()\n",
    "\n",
    "res.unpersist()\n",
    "indexedU_df.unpersist()"
   ]
  },
  {
   "cell_type": "markdown",
   "metadata": {
    "collapsed": true,
    "deletable": true,
    "editable": true
   },
   "source": [
    "# SVD"
   ]
  },
  {
   "cell_type": "code",
   "execution_count": null,
   "metadata": {
    "collapsed": false,
    "deletable": true,
    "editable": true
   },
   "outputs": [],
   "source": [
    "%%time \n",
    "\n",
    "t = table.select(\"USER_ID_Index\", \"MODULE_Index\", \"TF\").toPandas()\n",
    "\n",
    "total_users = sc.textFile(HOST + \"/csv/unique_users.csv\").count()\n",
    "total_modules = sc.textFile(HOST + \"/csv/unique_modules.csv\").count()\n",
    "\n",
    "def sparse_df_to_array(df, shape):\n",
    "    \"\"\" Convert sparse dataframe to sparse array csr_matrix used by scikit learn. \"\"\"\n",
    "    arr = lil_matrix(shape, dtype=np.float32)\n",
    "    for i in range(df.shape[0]):\n",
    "        arr[df.ix[i, \"USER_ID_Index\"]-1, df.ix[i, \"MODULE_Index\"]-1] = df.ix[i, \"TF\"]\n",
    "    return arr.tocsr()\n",
    "\n",
    "m = sparse_df_to_array(t, (total_users, total_modules))"
   ]
  },
  {
   "cell_type": "code",
   "execution_count": null,
   "metadata": {
    "collapsed": false,
    "deletable": true,
    "editable": true
   },
   "outputs": [],
   "source": [
    "%%time \n",
    "for i in range(1, total_modules):\n",
    "    svd = TruncatedSVD(n_components=i, n_iter=25, random_state=42)\n",
    "    svd.fit(m) \n",
    "    print i, \"svd.explained_variance_ratio_.sum() =\", svd.explained_variance_ratio_.sum()"
   ]
  },
  {
   "cell_type": "code",
   "execution_count": null,
   "metadata": {
    "collapsed": false,
    "deletable": true,
    "editable": true
   },
   "outputs": [],
   "source": [
    "svd = TruncatedSVD(n_components=10, n_iter=25, random_state=42)\n",
    "svd.fit(m) \n",
    "print \"svd.explained_variance_ratio_.sum() =\", svd.explained_variance_ratio_.sum()\n",
    "\n",
    "main1 = svd.transform(m)\n",
    "main2 = svd.inverse_transform(main1)\n",
    "\n",
    "m_idx = np.where(m.todense() > 0)\n",
    "m_not_0 = m.todense()[m_idx].T\n",
    "main2_not_0 = main2[m_idx].reshape(m_not_0.shape[0], 1)\n",
    "print \"RMSE:\", np.sqrt(np.square(m_not_0 - main2_not_0).mean())"
   ]
  },
  {
   "cell_type": "markdown",
   "metadata": {
    "collapsed": true,
    "deletable": true,
    "editable": true
   },
   "source": [
    "### Caclulate cosine similarities"
   ]
  },
  {
   "cell_type": "markdown",
   "metadata": {
    "deletable": true,
    "editable": true
   },
   "source": [
    "Prepare dataframes for each day from the 8th month"
   ]
  },
  {
   "cell_type": "code",
   "execution_count": null,
   "metadata": {
    "collapsed": false,
    "deletable": true,
    "editable": true
   },
   "outputs": [],
   "source": [
    "%%time\n",
    "\n",
    "query = \"\"\"\n",
    "    SELECT T1.USER_ID, MODULE, T1.AMOUNT*1.0 / T2.TOTAL AS TF \n",
    "    FROM (SELECT USER_ID, MODULE, COUNT(ACCESS_DTTM) AS AMOUNT\n",
    "        FROM df\n",
    "        GROUP BY USER_ID, MODULE\n",
    "    ) AS T1\n",
    "    JOIN (SELECT USER_ID, COUNT(ACCESS_DTTM) AS TOTAL\n",
    "        FROM df\n",
    "        GROUP BY USER_ID\n",
    "    ) AS T2\n",
    "    ON T1.USER_ID = T2.USER_ID\n",
    "\"\"\"\n",
    "\n",
    "data_8_9 = sqlContext_H.read.parquet( \n",
    "        HOST + \"/parquet2/08/*\",\n",
    "        HOST + \"/parquet2/09/*\"\n",
    "    ).persist()\n",
    "sqlContext_H.registerDataFrameAsTable(data_8_9, 'data_8_9')\n",
    "\n",
    "df_names = []\n",
    "for w in range(31, 39):\n",
    "    try: sqlContext_H.dropTempTable(\"df\")\n",
    "    except: pass\n",
    "    print w\n",
    "    df = data_8_9.filter(\"ACCESS_WEEK = {}\".format(w)).select(*fields_list).persist()\n",
    "    sqlContext_H.registerDataFrameAsTable(df, 'df')\n",
    "    df_names.append('df_table_' + str(w))\n",
    "    globals()['df_table_' + str(w)] = sqlContext_H.sql(query).persist()\n",
    "    df.unpersist()"
   ]
  },
  {
   "cell_type": "code",
   "execution_count": null,
   "metadata": {
    "collapsed": false,
    "deletable": true,
    "editable": true
   },
   "outputs": [],
   "source": [
    "%%time\n",
    "\n",
    "cos = {}\n",
    "\n",
    "for dn in df_names:\n",
    "    d = int(dn.split(\"_\")[-1])\n",
    "    df_indexedU = indexerU.transform(globals()[dn]).withColumn(\n",
    "                \"USER_ID_Index\", F.col(\"USER_ID_Index\").cast(IntegerType())\n",
    "            ).persist()\n",
    "    df_table = indexerM.transform(df_indexedU).withColumn(\n",
    "            \"MODULE_Index\", F.col(\"MODULE_Index\").cast(IntegerType())\n",
    "        ).select( \"USER_ID_Index\", \"MODULE_Index\", \"TF\" ).toPandas()\n",
    "    df_indexedU.unpersist()\n",
    "\n",
    "    df_m = sparse_df_to_array(df_table, (total_users, total_modules)).todense()\n",
    "\n",
    "    print dn\n",
    "    x1 = svd.transform(df_m)\n",
    "    \n",
    "    vals = []\n",
    "    for i in range(df_m.shape[0]):\n",
    "        vals.append(cosine_similarity(main1[i].reshape(1, -1), x1[i].reshape(1, -1))[0][0])    \n",
    "    cos.update({d:vals})"
   ]
  },
  {
   "cell_type": "markdown",
   "metadata": {
    "collapsed": true,
    "deletable": true,
    "editable": true
   },
   "source": [
    "# Investigate the behaviour of users with different values of cosine similarities"
   ]
  },
  {
   "cell_type": "code",
   "execution_count": null,
   "metadata": {
    "collapsed": true,
    "deletable": true,
    "editable": true
   },
   "outputs": [],
   "source": [
    "def get_user_index_by_id(id):\n",
    "    return indexerU.labels.index(str(id)) - 1\n",
    "\n",
    "def get_user_id_by_index(idx):\n",
    "    return indexerU.labels[idx + 1]"
   ]
  },
  {
   "cell_type": "code",
   "execution_count": null,
   "metadata": {
    "collapsed": false,
    "deletable": true,
    "editable": true
   },
   "outputs": [],
   "source": [
    "user_indices = set()\n",
    "for k,v in cos.iteritems():\n",
    "    v = np.array(v)\n",
    "    user_indices |= set(np.where((v > 0.2) & (v < 0.8))[0])\n",
    "    \n",
    "print len(user_indices)\n",
    "print list(user_indices)[:25]"
   ]
  },
  {
   "cell_type": "code",
   "execution_count": null,
   "metadata": {
    "collapsed": false,
    "deletable": true,
    "editable": true
   },
   "outputs": [],
   "source": [
    "%%time\n",
    "\n",
    "colors = (\n",
    "    'r', 'b', 'g', 'm', 'y', 'c', 'indigo', 'gold', 'pink', 'palegreen', \n",
    "    'grey', 'lime', 'darkred', 'salmon', 'navy', 'brown', 'coral'\n",
    ") * 2\n",
    "\n",
    "def draw3D(user_id, table, show=False, show3D=True):\n",
    "    total_modules = sc.textFile(HOST + \"/csv/unique_modules.csv\").collect()\n",
    "    total_modules.append(\"\")\n",
    "    default = OrderedDict({i:0 for i in total_modules})\n",
    "    plot_data = OrderedDict({})\n",
    "    \n",
    "    u_table = table.filter(\"USER_ID = {}\".format(user_id)).persist()\n",
    "    all_data = list(map(lambda x: (x[0],x[1]), u_table.select(\"MODULE\",\"TF\").collect()))\n",
    "    if show: print \"07 months workstations usage:\\n\", all_data\n",
    "    dict_i = copy.deepcopy(default)\n",
    "    for workst_i, tfidf_i in all_data:\n",
    "        dict_i[workst_i] = tfidf_i\n",
    "    plot_data.update({0: dict_i})  \n",
    "    u_table.unpersist()\n",
    "    \n",
    "    for d in range(31, 39):\n",
    "        d_data = list(map(lambda x: (x[0],x[1]), \n",
    "                globals()['df_table_' + str(d)].filter(\"USER_ID = {}\".format(user_id)).select(\"MODULE\",\"TF\").collect()\n",
    "            ))\n",
    "        if show: print \"workstations usage for {} day:\".format(d), d_data\n",
    "        dict_d = copy.deepcopy(default)\n",
    "        for workst_i, tfidf_i in d_data:\n",
    "            dict_d[workst_i] = tfidf_i\n",
    "        plot_data.update({d: dict_d}) \n",
    "        \n",
    "    if show3D:\n",
    "        fig = plt.figure(figsize=(16, 16))\n",
    "        ax = fig.add_subplot(111, projection='3d')\n",
    "        Y = range(len(total_modules))\n",
    "        c = 0\n",
    "        for key, val in plot_data.iteritems():\n",
    "            ax.bar(Y, np.array(val.values()), zs=c, zdir='y', color=colors[c], alpha=0.7)\n",
    "            c += 1\n",
    "        ax.set_xlabel('MODULE')\n",
    "        plt.xticks(Y, Y)\n",
    "        ax.set_ylabel('Week')\n",
    "        plt.yticks(range(len(range(31, 39)) + 1), [0] + list(range(31, 39)))\n",
    "        ax.set_zlabel('TF-IDF')\n",
    "        plt.show()\n",
    "    \n",
    "    fig = plt.figure(figsize=(16,4))\n",
    "    axes = plt.gca()\n",
    "    cos_sims_factors = [cos[i][idx] for i in range(31, 39)]\n",
    "    cos_sims_tfidf = [\n",
    "        cosine_similarity(np.array(plot_data[0].values()).reshape(1, -1), np.array(vals.values()).reshape(1, -1))[0][0] \n",
    "        for k,vals in plot_data.iteritems() if k!=0\n",
    "    ]\n",
    "    X = np.arange(len(cos_sims_tfidf))\n",
    "    plt.bar(X + 0.05, cos_sims_factors, width=0.9, alpha=0.7, color='r', label=\"Factors\")\n",
    "    plt.bar(X + 0.15, cos_sims_tfidf, width=0.7, alpha=0.7, color='g', label=\"TF-IDF\")\n",
    "    plt.xlabel(\"Weeks\", fontsize=12)\n",
    "    plt.ylabel('Cosine similarity', fontsize=12)\n",
    "    plt.xticks(range(len(range(31, 39))), list(range(31, 39)))\n",
    "    plt.title(\"Cosine similarities\", fontsize=12)\n",
    "    plt.legend()\n",
    "    plt.grid(True)\n",
    "    plt.show()\n",
    "    \n",
    "all_workstations = sc.textFile(HOST + \"/csv/unique_workstations.csv\").collect()\n",
    "all_workstations.append(\"\")"
   ]
  },
  {
   "cell_type": "code",
   "execution_count": null,
   "metadata": {
    "collapsed": false,
    "deletable": true,
    "editable": true,
    "scrolled": false
   },
   "outputs": [],
   "source": [
    "idx = 4\n",
    "user_id = get_user_id_by_index(idx)\n",
    "print \"user_id =\", user_id\n",
    "\n",
    "draw3D(user_id, table, show=False)"
   ]
  },
  {
   "cell_type": "code",
   "execution_count": null,
   "metadata": {
    "collapsed": false,
    "deletable": true,
    "editable": true,
    "scrolled": false
   },
   "outputs": [],
   "source": [
    "%%time\n",
    "\n",
    "idx = 4105\n",
    "user_id = get_user_id_by_index(idx)\n",
    "print \"user_id =\", user_id\n",
    "    \n",
    "draw3D(user_id, table, show=False)"
   ]
  },
  {
   "cell_type": "code",
   "execution_count": null,
   "metadata": {
    "collapsed": false,
    "deletable": true,
    "editable": true,
    "scrolled": false
   },
   "outputs": [],
   "source": [
    "%%time\n",
    "\n",
    "idx = 14\n",
    "user_id = get_user_id_by_index(idx)\n",
    "print \"user_id =\", user_id\n",
    "    \n",
    "draw3D(user_id, table, show=False)"
   ]
  },
  {
   "cell_type": "code",
   "execution_count": null,
   "metadata": {
    "collapsed": false,
    "deletable": true,
    "editable": true,
    "scrolled": false
   },
   "outputs": [],
   "source": [
    "%%time\n",
    "\n",
    "idx = 15\n",
    "user_id = get_user_id_by_index(idx)\n",
    "print \"user_id =\", user_id\n",
    "    \n",
    "draw3D(user_id, table, show=False)"
   ]
  },
  {
   "cell_type": "markdown",
   "metadata": {
    "deletable": true,
    "editable": true
   },
   "source": [
    "# Another amount of main components"
   ]
  },
  {
   "cell_type": "code",
   "execution_count": null,
   "metadata": {
    "collapsed": false,
    "deletable": true,
    "editable": true
   },
   "outputs": [],
   "source": [
    "%%time\n",
    "\n",
    "svd = TruncatedSVD(n_components=4, n_iter=25, random_state=42)\n",
    "svd.fit(m) \n",
    "print \"svd.explained_variance_ratio_.sum() =\", svd.explained_variance_ratio_.sum()\n",
    "\n",
    "main1 = svd.transform(m)\n",
    "main2 = svd.inverse_transform(main1)\n",
    "\n",
    "m_idx = np.where(m.todense() > 0)\n",
    "m_not_0 = m.todense()[m_idx].T\n",
    "main2_not_0 = main2[m_idx].reshape(m_not_0.shape[0], 1)\n",
    "print \"RMSE:\", np.sqrt(np.square(m_not_0 - main2_not_0).mean())\n",
    "\n",
    "cos = {}\n",
    "\n",
    "for dn in df_names:\n",
    "    d = int(dn.split(\"_\")[-1])\n",
    "    df_indexedU = indexerU.transform(globals()[dn]).withColumn(\n",
    "                \"USER_ID_Index\", F.col(\"USER_ID_Index\").cast(IntegerType())\n",
    "            ).persist()\n",
    "    df_table = indexerM.transform(df_indexedU).withColumn(\n",
    "            \"MODULE_Index\", F.col(\"MODULE_Index\").cast(IntegerType())\n",
    "        ).select( \"USER_ID_Index\", \"MODULE_Index\", \"TF\" ).toPandas()\n",
    "    df_indexedU.unpersist()\n",
    "\n",
    "    df_m = sparse_df_to_array(df_table, (total_users, total_modules)).todense()\n",
    "\n",
    "    print dn\n",
    "    x1 = svd.transform(df_m)\n",
    "    \n",
    "    vals = []\n",
    "    for i in range(df_m.shape[0]):\n",
    "        vals.append(cosine_similarity(main1[i].reshape(1, -1), x1[i].reshape(1, -1))[0][0])    \n",
    "    cos.update({d:vals})"
   ]
  },
  {
   "cell_type": "code",
   "execution_count": null,
   "metadata": {
    "collapsed": false,
    "deletable": true,
    "editable": true
   },
   "outputs": [],
   "source": [
    "idx = 4\n",
    "user_id = get_user_id_by_index(idx)\n",
    "print \"user_id =\", user_id\n",
    "\n",
    "draw3D(user_id, table, show3D=False)"
   ]
  },
  {
   "cell_type": "code",
   "execution_count": null,
   "metadata": {
    "collapsed": false,
    "deletable": true,
    "editable": true
   },
   "outputs": [],
   "source": [
    "idx = 14\n",
    "user_id = get_user_id_by_index(idx)\n",
    "print \"user_id =\", user_id\n",
    "\n",
    "draw3D(user_id, table, show3D=False)"
   ]
  },
  {
   "cell_type": "code",
   "execution_count": null,
   "metadata": {
    "collapsed": false,
    "deletable": true,
    "editable": true
   },
   "outputs": [],
   "source": [
    "idx = 15\n",
    "user_id = get_user_id_by_index(idx)\n",
    "print \"user_id =\", user_id\n",
    "\n",
    "draw3D(user_id, table, show3D=False)"
   ]
  },
  {
   "cell_type": "code",
   "execution_count": null,
   "metadata": {
    "collapsed": false,
    "deletable": true,
    "editable": true
   },
   "outputs": [],
   "source": [
    "idx = 44\n",
    "user_id = get_user_id_by_index(idx)\n",
    "print \"user_id =\", user_id\n",
    "\n",
    "draw3D(user_id, table, show3D=False)"
   ]
  }
 ],
 "metadata": {
  "kernelspec": {
   "display_name": "Python 3",
   "language": "python",
   "name": "python3"
  },
  "language_info": {
   "codemirror_mode": {
    "name": "ipython",
    "version": 3
   },
   "file_extension": ".py",
   "mimetype": "text/x-python",
   "name": "python",
   "nbconvert_exporter": "python",
   "pygments_lexer": "ipython3",
   "version": "3.5.3"
  },
  "widgets": {
   "state": {},
   "version": "1.0.0"
  }
 },
 "nbformat": 4,
 "nbformat_minor": 1
}
