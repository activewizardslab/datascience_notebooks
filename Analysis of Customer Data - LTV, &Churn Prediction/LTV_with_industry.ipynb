{
 "cells": [
  {
   "cell_type": "markdown",
   "metadata": {},
   "source": [
    "## Import modules"
   ]
  },
  {
   "cell_type": "code",
   "execution_count": 1,
   "metadata": {
    "collapsed": false
   },
   "outputs": [
    {
     "name": "stderr",
     "output_type": "stream",
     "text": [
      "/home/vova/anaconda2/lib/python2.7/site-packages/matplotlib/font_manager.py:273: UserWarning: Matplotlib is building the font cache using fc-list. This may take a moment.\n",
      "  warnings.warn('Matplotlib is building the font cache using fc-list. This may take a moment.')\n"
     ]
    }
   ],
   "source": [
    "import pandas as pd\n",
    "import numpy as np\n",
    "import datetime\n",
    "\n",
    "import matplotlib.pyplot as plt\n",
    "%matplotlib inline\n",
    "\n",
    "import openpyxl\n",
    "\n",
    "# Note, if you see the message that some module wasn't found, type \n",
    "# conda install module_name\n",
    "# for example, conda install openpyxl\n",
    "# in the command shell of your OS"
   ]
  },
  {
   "cell_type": "markdown",
   "metadata": {},
   "source": [
    "# 1. Reading file with data 'Data for Data Scientist.xlsx'"
   ]
  },
  {
   "cell_type": "code",
   "execution_count": 2,
   "metadata": {
    "collapsed": false,
    "scrolled": true
   },
   "outputs": [
    {
     "name": "stdout",
     "output_type": "stream",
     "text": [
      "DataFrame shape: (7030, 5)\n"
     ]
    },
    {
     "name": "stderr",
     "output_type": "stream",
     "text": [
      "/home/vova/anaconda2/lib/python2.7/site-packages/openpyxl/workbook/names/named_range.py:124: UserWarning: Discarded range with reserved name\n",
      "  warnings.warn(\"Discarded range with reserved name\")\n"
     ]
    }
   ],
   "source": [
    "wb = openpyxl.load_workbook('Data for Data Scientist.xlsx')\n",
    "sheet = wb.get_sheet_by_name('Value by Year')\n",
    "\n",
    "# Replace months names into its number\n",
    "MONTHS = {\n",
    "    'January': 1, 'February': 2, 'March': 3, 'April': 4, 'May': 5, 'June': 6, \n",
    "    'July': 7, 'August': 8, 'September': 9, 'October': 10, 'November': 11, 'December': 12\n",
    "}\n",
    "\n",
    "miss_rows = 14\n",
    "transition_years = []\n",
    "transition_months = []\n",
    "\n",
    "for row_num, row in enumerate(sheet.iter_rows(row_offset=miss_rows)):\n",
    "    if row_num == 0: # year row\n",
    "        for index, cell in enumerate(row):\n",
    "            if index > 3: \n",
    "                transition_years.append(int(cell.value))\n",
    "    elif row_num == 1: # month row\n",
    "        for index, cell in enumerate(row):\n",
    "            if index > 3:\n",
    "                transition_months.append(MONTHS[cell.value])\n",
    "        transition_dates_amount = len(transition_months)\n",
    "        df = pd.DataFrame(columns=['AccountID', 'Industry', 'TransitionYear', 'TransitionMonth', 'Value'])\n",
    "    else: # transition activity for various accounts\n",
    "        values = []\n",
    "        for index, cell in enumerate(row):\n",
    "            if index == 0:\n",
    "                account_id = int(cell.value)\n",
    "            elif index in (1,2):\n",
    "                pass\n",
    "            elif index == 3:\n",
    "                industry = cell.value\n",
    "            else:\n",
    "                values.append(cell.value)\n",
    "        if account_id > 140:\n",
    "            break\n",
    "        row_df = pd.DataFrame(\n",
    "            data={ \n",
    "                'AccountID':       [account_id]*transition_dates_amount, \n",
    "                'Industry':        [industry]*transition_dates_amount,\n",
    "                'TransitionYear':  transition_years,\n",
    "                'TransitionMonth': transition_months,\n",
    "                'Value':           values\n",
    "            }\n",
    "        )\n",
    "        df = df.append(row_df)\n",
    "        #print row_num, df.shape\n",
    "print \"DataFrame shape:\", df.shape"
   ]
  },
  {
   "cell_type": "markdown",
   "metadata": {},
   "source": [
    "Display DataFrame (table) content"
   ]
  },
  {
   "cell_type": "code",
   "execution_count": 3,
   "metadata": {
    "collapsed": false
   },
   "outputs": [
    {
     "data": {
      "text/html": [
       "<div>\n",
       "<table border=\"1\" class=\"dataframe\">\n",
       "  <thead>\n",
       "    <tr style=\"text-align: right;\">\n",
       "      <th></th>\n",
       "      <th>AccountID</th>\n",
       "      <th>Industry</th>\n",
       "      <th>TransitionMonth</th>\n",
       "      <th>TransitionYear</th>\n",
       "      <th>Value</th>\n",
       "    </tr>\n",
       "  </thead>\n",
       "  <tbody>\n",
       "    <tr>\n",
       "      <th>0</th>\n",
       "      <td>140</td>\n",
       "      <td>Other</td>\n",
       "      <td>7</td>\n",
       "      <td>2008</td>\n",
       "      <td>NaN</td>\n",
       "    </tr>\n",
       "    <tr>\n",
       "      <th>1</th>\n",
       "      <td>140</td>\n",
       "      <td>Other</td>\n",
       "      <td>8</td>\n",
       "      <td>2008</td>\n",
       "      <td>NaN</td>\n",
       "    </tr>\n",
       "    <tr>\n",
       "      <th>2</th>\n",
       "      <td>140</td>\n",
       "      <td>Other</td>\n",
       "      <td>9</td>\n",
       "      <td>2008</td>\n",
       "      <td>NaN</td>\n",
       "    </tr>\n",
       "    <tr>\n",
       "      <th>3</th>\n",
       "      <td>140</td>\n",
       "      <td>Other</td>\n",
       "      <td>10</td>\n",
       "      <td>2008</td>\n",
       "      <td>NaN</td>\n",
       "    </tr>\n",
       "    <tr>\n",
       "      <th>4</th>\n",
       "      <td>140</td>\n",
       "      <td>Other</td>\n",
       "      <td>11</td>\n",
       "      <td>2008</td>\n",
       "      <td>NaN</td>\n",
       "    </tr>\n",
       "    <tr>\n",
       "      <th>5</th>\n",
       "      <td>140</td>\n",
       "      <td>Other</td>\n",
       "      <td>12</td>\n",
       "      <td>2008</td>\n",
       "      <td>1</td>\n",
       "    </tr>\n",
       "    <tr>\n",
       "      <th>6</th>\n",
       "      <td>140</td>\n",
       "      <td>Other</td>\n",
       "      <td>1</td>\n",
       "      <td>2009</td>\n",
       "      <td>958</td>\n",
       "    </tr>\n",
       "    <tr>\n",
       "      <th>7</th>\n",
       "      <td>140</td>\n",
       "      <td>Other</td>\n",
       "      <td>2</td>\n",
       "      <td>2009</td>\n",
       "      <td>46</td>\n",
       "    </tr>\n",
       "    <tr>\n",
       "      <th>8</th>\n",
       "      <td>140</td>\n",
       "      <td>Other</td>\n",
       "      <td>3</td>\n",
       "      <td>2009</td>\n",
       "      <td>906</td>\n",
       "    </tr>\n",
       "    <tr>\n",
       "      <th>9</th>\n",
       "      <td>140</td>\n",
       "      <td>Other</td>\n",
       "      <td>4</td>\n",
       "      <td>2009</td>\n",
       "      <td>208</td>\n",
       "    </tr>\n",
       "  </tbody>\n",
       "</table>\n",
       "</div>"
      ],
      "text/plain": [
       "   AccountID Industry  TransitionMonth  TransitionYear  Value\n",
       "0        140    Other                7            2008    NaN\n",
       "1        140    Other                8            2008    NaN\n",
       "2        140    Other                9            2008    NaN\n",
       "3        140    Other               10            2008    NaN\n",
       "4        140    Other               11            2008    NaN\n",
       "5        140    Other               12            2008      1\n",
       "6        140    Other                1            2009    958\n",
       "7        140    Other                2            2009     46\n",
       "8        140    Other                3            2009    906\n",
       "9        140    Other                4            2009    208"
      ]
     },
     "execution_count": 3,
     "metadata": {},
     "output_type": "execute_result"
    }
   ],
   "source": [
    "# Show the first 10 rows for AccountID == 140\n",
    "df[df['AccountID'] == 140].head(10)"
   ]
  },
  {
   "cell_type": "markdown",
   "metadata": {
    "collapsed": true
   },
   "source": [
    "# 2. Calculate LTV (a relatively simple approach) "
   ]
  },
  {
   "cell_type": "markdown",
   "metadata": {},
   "source": [
    "### Total revenue by years"
   ]
  },
  {
   "cell_type": "code",
   "execution_count": 4,
   "metadata": {
    "collapsed": false
   },
   "outputs": [
    {
     "data": {
      "text/plain": [
       "TransitionYear\n",
       "2008     8401\n",
       "2009    29270\n",
       "2010    32111\n",
       "2011    43982\n",
       "2012    48157\n",
       "2013    51276\n",
       "2014    57372\n",
       "2015    53858\n",
       "2016    23871\n",
       "Name: Value, dtype: float64"
      ]
     },
     "execution_count": 4,
     "metadata": {},
     "output_type": "execute_result"
    }
   ],
   "source": [
    "total_revenue = df.groupby('TransitionYear')['Value'].sum()\n",
    "total_revenue"
   ]
  },
  {
   "cell_type": "markdown",
   "metadata": {},
   "source": [
    "### Accounts active in each year"
   ]
  },
  {
   "cell_type": "code",
   "execution_count": 5,
   "metadata": {
    "collapsed": false
   },
   "outputs": [],
   "source": [
    "active_accounts = {year: df[(df['TransitionYear'] == year) & (df['Value'] != 0) & (pd.notnull(df['Value']))]['AccountID'].drop_duplicates().values \n",
    "                   for year in range(2008, 2017)}\n",
    "\n",
    "# New active costumers comparing with the previous year \n",
    "# (may contain those persons who has already been a costumer, but who was not active one year or more before)\n",
    "new_active_accounts = {\n",
    "    year: df[(df['TransitionYear'] == year) & (df['Value'] != 0) & (pd.notnull(df['Value'])) & (~df['AccountID'].isin(active_accounts[year-1]))] \\\n",
    "          ['AccountID'].drop_duplicates().values \n",
    "    for year in range(2009, 2017)}\n",
    "new_active_accounts.update({ 2008: [] })\n",
    "\n",
    "# New active costumers who join first time\n",
    "def join_sets(year):\n",
    "    res = set()\n",
    "    for i in range(2008, year):\n",
    "        res = res | set(active_accounts[i])\n",
    "    return res\n",
    "\n",
    "# Accounts joined first time (and wich were not active anywhere previously)\n",
    "pure_active_accounts = {\n",
    "    year: df[(df['TransitionYear'] == year) & (df['Value'] != 0) & (pd.notnull(df['Value'])) & (~df['AccountID'].isin(join_sets(year)))] \\\n",
    "          ['AccountID'].drop_duplicates().values \n",
    "    for year in range(2009, 2017)}\n",
    "pure_active_accounts.update({ 2008: [] })\n",
    "\n",
    "# How many accounts became not active\n",
    "gone_active_accounts = {\n",
    "    year: list(set(active_accounts[year-1]) - set(active_accounts[year])) for year in range(2009, 2017)}\n",
    "gone_active_accounts.update({ 2008: [] })"
   ]
  },
  {
   "cell_type": "markdown",
   "metadata": {},
   "source": [
    "Display calculated values in the bar chart"
   ]
  },
  {
   "cell_type": "code",
   "execution_count": 6,
   "metadata": {
    "collapsed": false
   },
   "outputs": [
    {
     "data": {
      "image/png": "[encoded data removed]",
      "text/plain": [
       "<matplotlib.figure.Figure at 0x7fc432f17790>"
      ]
     },
     "metadata": {},
     "output_type": "display_data"
    }
   ],
   "source": [
    "def get_amount(dictionary):\n",
    "    keys = sorted(dictionary.keys())\n",
    "    return [len(dictionary[key]) for key in keys]\n",
    "\n",
    "N = len(range(2008, 2017))\n",
    "ind = np.arange(N)\n",
    "width = 0.225\n",
    "\n",
    "fig, ax = plt.subplots(figsize=(18, 6))\n",
    "active = ax.bar(ind, get_amount(active_accounts), width, color='g')\n",
    "new_active = ax.bar(ind + width, get_amount(new_active_accounts), width, color='r')\n",
    "gone_active = ax.bar(ind + 2*width, get_amount(gone_active_accounts), width, color='y')\n",
    "pure_active = ax.bar(ind + 3*width, get_amount(pure_active_accounts), width, color='b')\n",
    "\n",
    "ax.set_ylabel('Amount')\n",
    "ax.set_xticks(ind + 2*width)\n",
    "ax.set_xticklabels(sorted(active_accounts.keys()))\n",
    "\n",
    "ax.legend((active[0], new_active[0], gone_active[0], pure_active[0]), ('Active', 'New Active', 'Gone Active', 'Pure Active'))\n",
    "plt.show()"
   ]
  },
  {
   "cell_type": "markdown",
   "metadata": {
    "collapsed": true
   },
   "source": [
    "## Calculation for LTV\n",
    "\n",
    "#### 2.1. Customer Retention Rate (CRR):\n",
    "$$CRR = ((E-N)/S)*100,$$\n",
    "\n",
    "where \n",
    "\n",
    "* $E$ is the number of customers at the end of a period;\n",
    "* $N$ is the number of new customers acquired during that period;\n",
    "* $S$ is the number of customers at the start of that period."
   ]
  },
  {
   "cell_type": "code",
   "execution_count": 7,
   "metadata": {
    "collapsed": false
   },
   "outputs": [
    {
     "name": "stdout",
     "output_type": "stream",
     "text": [
      "Number of customers at the end of a period:\n",
      "{2016: 20, 2008: 29, 2009: 34, 2010: 31, 2011: 31, 2012: 29, 2013: 31, 2014: 30, 2015: 28}\n",
      "\n",
      "Number of new customers acquired during that period:\n",
      "{2016: 1, 2008: 0, 2009: 16, 2010: 6, 2011: 6, 2012: 3, 2013: 4, 2014: 3, 2015: 3}\n",
      "\n",
      "Number of customers at the start of that period:\n",
      "{2016: 28, 2008: 10, 2009: 29, 2010: 34, 2011: 31, 2012: 31, 2013: 29, 2014: 31, 2015: 30}\n",
      "\n",
      "CRR: {2016: 0.6785714285714286, 2008: 2.9, 2009: 0.6206896551724138, 2010: 0.7352941176470589, 2011: 0.8064516129032258, 2012: 0.8387096774193549, 2013: 0.9310344827586207, 2014: 0.8709677419354839, 2015: 0.8333333333333334}\n"
     ]
    }
   ],
   "source": [
    "E = {year: len(df[(df['TransitionYear'] == year) & (df['Value'] != 0) & (pd.notnull(df['Value']))]['AccountID'].drop_duplicates().values) \n",
    "                   for year in range(2008, 2017)}\n",
    "\n",
    "print \"Number of customers at the end of a period:\\n\", E\n",
    "\n",
    "N = {\n",
    "    year: len(df[(df['TransitionYear'] == year) & (df['Value'] != 0) & (pd.notnull(df['Value'])) & (~df['AccountID'].isin(active_accounts[year-1]))] \\\n",
    "          ['AccountID'].drop_duplicates().values)\n",
    "    for year in range(2009, 2017)}\n",
    "N.update({ 2008: 0 })\n",
    "\n",
    "print\n",
    "print \"Number of new customers acquired during that period:\\n\", N\n",
    "\n",
    "S = {year: len(df[(df['TransitionYear'] == year-1) & (df['Value'] != 0) & (pd.notnull(df['Value']))]['AccountID'].drop_duplicates().values) \n",
    "                   for year in range(2009, 2017)}\n",
    "\n",
    "S.update({ 2008: len(df[(df['TransitionYear'] == 2008) & (df['TransitionMonth'] == 8) & (df['Value'] != 0) &\n",
    "                        (pd.notnull(df['Value']))]['AccountID'].drop_duplicates().values) \n",
    "         })\n",
    "\n",
    "print\n",
    "print \"Number of customers at the start of that period:\\n\", S\n",
    "\n",
    "CRR = {}\n",
    "for year in range(2008, 2017):\n",
    "    CRR.update({year: (E[year] - N[year])/float(S[year])})\n",
    "    \n",
    "print\n",
    "print \"CRR:\", CRR"
   ]
  },
  {
   "cell_type": "markdown",
   "metadata": {},
   "source": [
    "#### 2.2. Customer profit for each industry:"
   ]
  },
  {
   "cell_type": "code",
   "execution_count": 8,
   "metadata": {
    "collapsed": false
   },
   "outputs": [
    {
     "name": "stdout",
     "output_type": "stream",
     "text": [
      "Industries: [u'Other' u'S' u'M' u'EO' u'D' u'SC' u'G' u'C' u'T']\n",
      "Total profit:\n",
      "{u'EO': {2016: 0.0, 2008: 846.0, 2009: 420.0, 2010: 1055.0, 2011: 854.0, 2012: 841.0, 2013: 966.0, 2014: 516.0, 2015: 517.0}, u'D': {2016: 1379.0, 2008: 262.0, 2009: 1759.0, 2010: 1155.0, 2011: 2124.0, 2012: 2092.0, 2013: 1670.0, 2014: 2181.0, 2015: 1693.0}, u'G': {2016: 0.0, 2008: 0.0, 2009: 554.0, 2010: 337.0, 2011: 589.0, 2012: 559.0, 2013: 667.0, 2014: 592.0, 2015: 0.0}, u'M': {2016: 0.0, 2008: 0.0, 2009: 0.0, 2010: 99.0, 2011: 122.0, 2012: 235.0, 2013: 102.0, 2014: 162.0, 2015: 40.0}, u'C': {2016: 0.0, 2008: 18.0, 2009: 144.0, 2010: 474.0, 2011: 91.0, 2012: 161.0, 2013: 21.0, 2014: 452.0, 2015: 121.0}, u'S': {2016: 14101.0, 2008: 5642.0, 2009: 15744.0, 2010: 19283.0, 2011: 27614.0, 2012: 24515.0, 2013: 31519.0, 2014: 31751.0, 2015: 33261.0}, u'Other': {2016: 5374.0, 2008: 895.0, 2009: 7762.0, 2010: 7258.0, 2011: 9063.0, 2012: 14761.0, 2013: 12103.0, 2014: 17103.0, 2015: 12497.0}, u'T': {2016: 934.0, 2008: 33.0, 2009: 1323.0, 2010: 1261.0, 2011: 697.0, 2012: 808.0, 2013: 1194.0, 2014: 1548.0, 2015: 2385.0}, u'SC': {2016: 2083.0, 2008: 705.0, 2009: 1564.0, 2010: 1189.0, 2011: 2828.0, 2012: 4185.0, 2013: 3034.0, 2014: 3067.0, 2015: 3344.0}}\n"
     ]
    }
   ],
   "source": [
    "industries = df['Industry'].drop_duplicates().values\n",
    "print \"Industries:\", industries\n",
    "\n",
    "ind_profit = {ind: {} for ind in industries}\n",
    "for year in range(2008,2017):\n",
    "    for ind in industries:\n",
    "        x = df[(df['TransitionYear'] == year) & (df['Industry'] == ind)]['Value'].sum()\n",
    "        ind_profit[ind].update({ year: 0 if np.isnan(x) else x })\n",
    "        \n",
    "print \"Total profit:\\n\", ind_profit"
   ]
  },
  {
   "cell_type": "markdown",
   "metadata": {},
   "source": [
    "Display total profit for each industry"
   ]
  },
  {
   "cell_type": "code",
   "execution_count": 9,
   "metadata": {
    "collapsed": false
   },
   "outputs": [
    {
     "data": {
      "image/png": "[encoded data removed]",
      "text/plain": [
       "<matplotlib.figure.Figure at 0x7fc432f170d0>"
      ]
     },
     "metadata": {},
     "output_type": "display_data"
    }
   ],
   "source": [
    "def get_vals(dictionary):\n",
    "    keys = sorted(dictionary.keys())\n",
    "    return [dictionary[key] for key in keys]\n",
    "\n",
    "N = len(range(2008, 2017))\n",
    "k = len(industries)\n",
    "ind = np.arange(N)\n",
    "width = 0.8/k\n",
    "colors = ['blue', 'green', 'red', 'cyan', 'magenta', 'yellow', 'grey', 'brown', 'purple']\n",
    "\n",
    "fig, ax = plt.subplots(figsize=(18, 8))\n",
    "charts = []\n",
    "c = 0\n",
    "ind_names = []\n",
    "for key, val in ind_profit.iteritems():\n",
    "    chart = ax.bar(ind + c*width, get_vals(val), width, color=colors[c])\n",
    "    charts.append(chart)\n",
    "    ind_names.append(key)\n",
    "    c += 1\n",
    "\n",
    "ax.set_ylabel('Total profit')\n",
    "ax.set_xticks(ind + (N/2.)*width)\n",
    "ax.set_xticklabels(range(2008,2017))\n",
    "\n",
    "ax.legend((i[0] for i in charts), (ind_names))\n",
    "plt.show()"
   ]
  },
  {
   "cell_type": "markdown",
   "metadata": {},
   "source": [
    "#### 2.3. Calculate LTV:\n",
    "We will use the two approaches\n",
    "\n",
    "1) $$LTV = \\sum_{t=1}^n <r>^t\\cdot\\frac{P_t}{(1+d)^t};$$\n",
    "\n",
    "2) $$LTV = \\sum_{t=1}^n r_t^t\\cdot\\frac{P_t}{(1+d)^t},$$\n",
    "\n",
    "where\n",
    "\n",
    "* $t$ is a period, e.g. the first year(t=1), the second year(t=2)\n",
    "* $n$ is the total number of periods the customer will stay before he/she finally churns\n",
    "* $r_t$ is the retention rate/possibility for the period t\n",
    "* $<r>$ is the average retention rate\n",
    "* $P_t$ is the profit the customer will contribute in the Period t\n",
    "* $d$ is the discount rate"
   ]
  },
  {
   "cell_type": "code",
   "execution_count": 10,
   "metadata": {
    "collapsed": false
   },
   "outputs": [
    {
     "data": {
      "text/plain": [
       "0.78938150621761494"
      ]
     },
     "execution_count": 10,
     "metadata": {},
     "output_type": "execute_result"
    }
   ],
   "source": [
    "CRR_avg = np.mean(list(CRR[year] for year in range(2009, 2017)))\n",
    "CRR_avg"
   ]
  },
  {
   "cell_type": "markdown",
   "metadata": {},
   "source": [
    "#### The second formula"
   ]
  },
  {
   "cell_type": "code",
   "execution_count": 11,
   "metadata": {
    "collapsed": false
   },
   "outputs": [
    {
     "name": "stdout",
     "output_type": "stream",
     "text": [
      "LTV:\n"
     ]
    },
    {
     "data": {
      "text/plain": [
       "{u'C': 521.15,\n",
       " u'D': 4586.83,\n",
       " u'EO': 1949.94,\n",
       " u'G': 1319.81,\n",
       " u'M': 261.69,\n",
       " u'Other': 27556.94,\n",
       " u'S': 63240.54,\n",
       " u'SC': 6538.79,\n",
       " u'T': 3118.94}"
      ]
     },
     "execution_count": 11,
     "metadata": {},
     "output_type": "execute_result"
    }
   ],
   "source": [
    "d = 0.1\n",
    "\n",
    "LTV2 = {}\n",
    "for ind in industries:\n",
    "    LTV2.update({ \n",
    "        ind: round(sum(CRR[year]**(i+1) * ind_profit[ind][year]/(1+d)**(i+1) for i, year in enumerate(range(2009, 2017))), 2) \n",
    "    })\n",
    "    \n",
    "print \"LTV:\"\n",
    "LTV2"
   ]
  },
  {
   "cell_type": "markdown",
   "metadata": {},
   "source": [
    "#### The first formula:"
   ]
  },
  {
   "cell_type": "code",
   "execution_count": 12,
   "metadata": {
    "collapsed": false
   },
   "outputs": [
    {
     "name": "stdout",
     "output_type": "stream",
     "text": [
      "LTV:\n"
     ]
    },
    {
     "data": {
      "text/plain": [
       "{u'C': 501.35,\n",
       " u'D': 4075.44,\n",
       " u'EO': 1688.32,\n",
       " u'G': 1144.82,\n",
       " u'M': 203.85,\n",
       " u'Other': 22813.78,\n",
       " u'S': 52521.37,\n",
       " u'SC': 5360.17,\n",
       " u'T': 2808.75}"
      ]
     },
     "execution_count": 12,
     "metadata": {},
     "output_type": "execute_result"
    }
   ],
   "source": [
    "d = 0.1\n",
    "\n",
    "LTV1 = {}\n",
    "for ind in industries:\n",
    "    LTV1.update({ \n",
    "        ind: round(sum(CRR_avg**(i+1) * ind_profit[ind][year]/(1+d)**(i+1) for i, year in enumerate(range(2009, 2017))), 2) \n",
    "    })\n",
    "    \n",
    "print \"LTV:\"\n",
    "LTV1"
   ]
  },
  {
   "cell_type": "markdown",
   "metadata": {},
   "source": [
    "Let's visualize"
   ]
  },
  {
   "cell_type": "code",
   "execution_count": 13,
   "metadata": {
    "collapsed": false
   },
   "outputs": [
    {
     "data": {
      "image/png": "[encoded data removed]",
      "text/plain": [
       "<matplotlib.figure.Figure at 0x7fc432957490>"
      ]
     },
     "metadata": {},
     "output_type": "display_data"
    }
   ],
   "source": [
    "colors = ['blue', 'green', 'red', 'cyan', 'magenta', 'yellow', 'grey', 'brown', 'purple']\n",
    "\n",
    "plt.rcParams['figure.figsize'] = (10, 10)\n",
    "plt.pie(LTV1.values(), labels=LTV1.keys(), colors=colors, startangle=90, autopct='%1.1f%%')\n",
    "# Set aspect ratio to be equal so that pie is drawn as a circle.\n",
    "plt.axis('equal')\n",
    "plt.show()"
   ]
  },
  {
   "cell_type": "markdown",
   "metadata": {},
   "source": [
    "The same but year by year dynamics:"
   ]
  },
  {
   "cell_type": "code",
   "execution_count": 14,
   "metadata": {
    "collapsed": false,
    "scrolled": true
   },
   "outputs": [
    {
     "name": "stdout",
     "output_type": "stream",
     "text": [
      "LTV:\n"
     ]
    },
    {
     "data": {
      "text/plain": [
       "{2009: {u'C': 81.25,\n",
       "  u'D': 992.54,\n",
       "  u'EO': 236.99,\n",
       "  u'G': 312.6,\n",
       "  u'M': 0.0,\n",
       "  u'Other': 4379.81,\n",
       "  u'S': 8883.76,\n",
       "  u'SC': 882.51,\n",
       "  u'T': 746.52},\n",
       " 2010: {u'C': 360.14,\n",
       "  u'D': 877.56,\n",
       "  u'EO': 801.58,\n",
       "  u'G': 256.05,\n",
       "  u'M': 75.22,\n",
       "  u'Other': 5514.56,\n",
       "  u'S': 14651.03,\n",
       "  u'SC': 903.39,\n",
       "  u'T': 958.1},\n",
       " 2011: {u'C': 76.82,\n",
       "  u'D': 1792.93,\n",
       "  u'EO': 720.89,\n",
       "  u'G': 497.19,\n",
       "  u'M': 102.98,\n",
       "  u'Other': 7650.34,\n",
       "  u'S': 23309.78,\n",
       "  u'SC': 2387.2,\n",
       "  u'T': 588.36},\n",
       " 2012: {u'C': 139.39,\n",
       "  u'D': 1811.17,\n",
       "  u'EO': 728.1,\n",
       "  u'G': 483.96,\n",
       "  u'M': 203.45,\n",
       "  u'Other': 12779.48,\n",
       "  u'S': 21224.09,\n",
       "  u'SC': 3623.2,\n",
       "  u'T': 699.53},\n",
       " 2013: {u'C': 19.61,\n",
       "  u'D': 1559.7,\n",
       "  u'EO': 902.19,\n",
       "  u'G': 622.94,\n",
       "  u'M': 95.26,\n",
       "  u'Other': 11303.59,\n",
       "  u'S': 29437.14,\n",
       "  u'SC': 2833.6,\n",
       "  u'T': 1115.14},\n",
       " 2014: {u'C': 402.89,\n",
       "  u'D': 1944.01,\n",
       "  u'EO': 459.93,\n",
       "  u'G': 527.67,\n",
       "  u'M': 144.4,\n",
       "  u'Other': 15244.58,\n",
       "  u'S': 28300.91,\n",
       "  u'SC': 2733.74,\n",
       "  u'T': 1379.79},\n",
       " 2015: {u'C': 95.39,\n",
       "  u'D': 1334.68,\n",
       "  u'EO': 407.58,\n",
       "  u'G': 0.0,\n",
       "  u'M': 31.53,\n",
       "  u'Other': 9852.01,\n",
       "  u'S': 26221.31,\n",
       "  u'SC': 2636.24,\n",
       "  u'T': 1880.21},\n",
       " 2016: {u'C': 0.0,\n",
       "  u'D': 775.9,\n",
       "  u'EO': 0.0,\n",
       "  u'G': 0.0,\n",
       "  u'M': 0.0,\n",
       "  u'Other': 3023.72,\n",
       "  u'S': 7934.03,\n",
       "  u'SC': 1172.02,\n",
       "  u'T': 525.52}}"
      ]
     },
     "execution_count": 14,
     "metadata": {},
     "output_type": "execute_result"
    }
   ],
   "source": [
    "d = 0.1\n",
    "\n",
    "LTV = {}\n",
    "for i, year in enumerate(range(2009, 2017)):\n",
    "    crr = np.mean(list(CRR[n] for n in range(2009, year+1)))\n",
    "    LTV.update({year: {}})\n",
    "    for ind in industries:\n",
    "        LTV[year].update({ \n",
    "            ind: round( sum(crr**(i+1) * ind_profit[ind][year]/(1+d)**(i+1)\n",
    "                        for n in range(2009, year+1)\n",
    "                      ), 2) \n",
    "        })\n",
    "    \n",
    "print \"LTV:\"\n",
    "LTV"
   ]
  },
  {
   "cell_type": "markdown",
   "metadata": {},
   "source": [
    "Let's visualize this results"
   ]
  },
  {
   "cell_type": "code",
   "execution_count": 15,
   "metadata": {
    "collapsed": false
   },
   "outputs": [
    {
     "data": {
      "image/png": "[encoded data removed]",
      "text/plain": [
       "<matplotlib.figure.Figure at 0x7fc42cf28a10>"
      ]
     },
     "metadata": {},
     "output_type": "display_data"
    }
   ],
   "source": [
    "# Type here the year which you want to see the values of LTV for each industry\n",
    "year = 2009\n",
    "\n",
    "try:\n",
    "    labels = []\n",
    "    vals = []\n",
    "    for k,v in LTV[year].iteritems():\n",
    "        labels.append(k)\n",
    "        vals.append(v)\n",
    "\n",
    "    n = np.arange(0, len(industries))\n",
    "    plt.plot(n, vals, 'o-')\n",
    "    plt.xticks(n, labels)\n",
    "    plt.show()\n",
    "except:\n",
    "    print \"Year lies between 2009 and 2016\""
   ]
  },
  {
   "cell_type": "code",
   "execution_count": 16,
   "metadata": {
    "collapsed": false
   },
   "outputs": [
    {
     "data": {
      "image/png": "[encoded data removed]",
      "text/plain": [
       "<matplotlib.figure.Figure at 0x7fc42cd59f10>"
      ]
     },
     "metadata": {},
     "output_type": "display_data"
    }
   ],
   "source": [
    "fig, ax = plt.subplots(figsize=(18, 9))\n",
    "lines = []\n",
    "labels = list(range(2009, 2017))\n",
    "n = np.arange(0, len(labels))\n",
    "for ind in industries:\n",
    "    vals = []\n",
    "    for k in sorted(LTV.keys()):\n",
    "        for k1,v1 in LTV[k].iteritems():\n",
    "            if k1 == ind:\n",
    "                vals.append(v1)\n",
    "    ax1 = ax.plot(n, vals, 'o-')\n",
    "    lines.append(ax1)\n",
    "    \n",
    "plt.xticks(n, labels)    \n",
    "ax.legend((i[0] for i in lines), list(industries))\n",
    "plt.show()"
   ]
  },
  {
   "cell_type": "markdown",
   "metadata": {
    "collapsed": true
   },
   "source": [
    "# 3. Convert to frequency/ recency and another approach to calculation of LTV (more complicated)"
   ]
  },
  {
   "cell_type": "markdown",
   "metadata": {},
   "source": [
    "Import a new helpfull library"
   ]
  },
  {
   "cell_type": "code",
   "execution_count": 17,
   "metadata": {
    "collapsed": true
   },
   "outputs": [],
   "source": [
    "# You need install lifetimes Python library\n",
    "# Type \"conda install lifetimes\" (without quotes) in the terminal or command line\n",
    "\n",
    "from lifetimes.utils import summary_data_from_transaction_data\n",
    "from lifetimes import GammaGammaFitter, BetaGeoFitter\n",
    "from lifetimes.plotting import plot_frequency_recency_matrix, plot_history_alive"
   ]
  },
  {
   "cell_type": "markdown",
   "metadata": {},
   "source": [
    "Transform year and month to datetime format and remain only not-null records"
   ]
  },
  {
   "cell_type": "code",
   "execution_count": 18,
   "metadata": {
    "collapsed": false,
    "scrolled": true
   },
   "outputs": [
    {
     "data": {
      "text/html": [
       "<div>\n",
       "<table border=\"1\" class=\"dataframe\">\n",
       "  <thead>\n",
       "    <tr style=\"text-align: right;\">\n",
       "      <th></th>\n",
       "      <th>AccountID</th>\n",
       "      <th>Industry</th>\n",
       "      <th>Value</th>\n",
       "      <th>TransitionDate</th>\n",
       "    </tr>\n",
       "  </thead>\n",
       "  <tbody>\n",
       "    <tr>\n",
       "      <th>5</th>\n",
       "      <td>140</td>\n",
       "      <td>Other</td>\n",
       "      <td>1</td>\n",
       "      <td>2008-12-01</td>\n",
       "    </tr>\n",
       "    <tr>\n",
       "      <th>6</th>\n",
       "      <td>140</td>\n",
       "      <td>Other</td>\n",
       "      <td>958</td>\n",
       "      <td>2009-01-01</td>\n",
       "    </tr>\n",
       "    <tr>\n",
       "      <th>7</th>\n",
       "      <td>140</td>\n",
       "      <td>Other</td>\n",
       "      <td>46</td>\n",
       "      <td>2009-02-01</td>\n",
       "    </tr>\n",
       "    <tr>\n",
       "      <th>8</th>\n",
       "      <td>140</td>\n",
       "      <td>Other</td>\n",
       "      <td>906</td>\n",
       "      <td>2009-03-01</td>\n",
       "    </tr>\n",
       "    <tr>\n",
       "      <th>9</th>\n",
       "      <td>140</td>\n",
       "      <td>Other</td>\n",
       "      <td>208</td>\n",
       "      <td>2009-04-01</td>\n",
       "    </tr>\n",
       "  </tbody>\n",
       "</table>\n",
       "</div>"
      ],
      "text/plain": [
       "   AccountID Industry  Value TransitionDate\n",
       "5        140    Other      1     2008-12-01\n",
       "6        140    Other    958     2009-01-01\n",
       "7        140    Other     46     2009-02-01\n",
       "8        140    Other    906     2009-03-01\n",
       "9        140    Other    208     2009-04-01"
      ]
     },
     "execution_count": 18,
     "metadata": {},
     "output_type": "execute_result"
    }
   ],
   "source": [
    "df_date = df.copy()\n",
    "df_date = df_date[(df['Value'] != 0) & (pd.notnull(df['Value']))]\n",
    "df_date['TransitionDate'] = df_date.apply(\n",
    "    lambda x: datetime.datetime.strptime(str(int(x['TransitionYear'])) + str(int(x['TransitionMonth'])) + '1', \"%Y%m%d\").date(), \n",
    "    axis=1)\n",
    "df_date.drop(['TransitionYear', 'TransitionMonth'], axis=1, inplace=True)\n",
    "df_date[df_date['AccountID'] == 140].head(5)"
   ]
  },
  {
   "cell_type": "markdown",
   "metadata": {},
   "source": [
    "#### Crate a new table with the following columns:\n",
    "\n",
    "* ***frequency*** represents the number of repeat purchases the customer has made. \n",
    "\n",
    "* ***T*** represents the age of the customer in whatever time units chosen. This is equal to the duration between a customer's first purchase and the end of the period under study (below we use months and years for more fine analysis).\n",
    "\n",
    "* ***recency*** represents the age of the customer when they made their most recent purchases. This is equal to the duration between a customer's first purchase and their latest purchase."
   ]
  },
  {
   "cell_type": "code",
   "execution_count": 19,
   "metadata": {
    "collapsed": false
   },
   "outputs": [
    {
     "name": "stdout",
     "output_type": "stream",
     "text": [
      "(56, 4)\n"
     ]
    },
    {
     "data": {
      "text/html": [
       "<div>\n",
       "<table border=\"1\" class=\"dataframe\">\n",
       "  <thead>\n",
       "    <tr style=\"text-align: right;\">\n",
       "      <th></th>\n",
       "      <th>frequency</th>\n",
       "      <th>recency</th>\n",
       "      <th>T</th>\n",
       "      <th>monetary_value</th>\n",
       "    </tr>\n",
       "    <tr>\n",
       "      <th>AccountID</th>\n",
       "      <th></th>\n",
       "      <th></th>\n",
       "      <th></th>\n",
       "      <th></th>\n",
       "    </tr>\n",
       "  </thead>\n",
       "  <tbody>\n",
       "    <tr>\n",
       "      <th>1</th>\n",
       "      <td>75</td>\n",
       "      <td>94</td>\n",
       "      <td>95</td>\n",
       "      <td>49.266667</td>\n",
       "    </tr>\n",
       "    <tr>\n",
       "      <th>6</th>\n",
       "      <td>63</td>\n",
       "      <td>94</td>\n",
       "      <td>95</td>\n",
       "      <td>181.682540</td>\n",
       "    </tr>\n",
       "    <tr>\n",
       "      <th>8</th>\n",
       "      <td>1</td>\n",
       "      <td>1</td>\n",
       "      <td>88</td>\n",
       "      <td>270.000000</td>\n",
       "    </tr>\n",
       "    <tr>\n",
       "      <th>10</th>\n",
       "      <td>1</td>\n",
       "      <td>1</td>\n",
       "      <td>95</td>\n",
       "      <td>157.000000</td>\n",
       "    </tr>\n",
       "    <tr>\n",
       "      <th>11</th>\n",
       "      <td>70</td>\n",
       "      <td>78</td>\n",
       "      <td>79</td>\n",
       "      <td>240.400000</td>\n",
       "    </tr>\n",
       "  </tbody>\n",
       "</table>\n",
       "</div>"
      ],
      "text/plain": [
       "           frequency  recency   T  monetary_value\n",
       "AccountID                                        \n",
       "1                 75       94  95       49.266667\n",
       "6                 63       94  95      181.682540\n",
       "8                  1        1  88      270.000000\n",
       "10                 1        1  95      157.000000\n",
       "11                70       78  79      240.400000"
      ]
     },
     "execution_count": 19,
     "metadata": {},
     "output_type": "execute_result"
    }
   ],
   "source": [
    "summary_m = summary_data_from_transaction_data(\n",
    "    df_date, \n",
    "    customer_id_col='AccountID', \n",
    "    datetime_col='TransitionDate',\n",
    "    monetary_value_col='Value',\n",
    "    freq='M'                            \n",
    ")\n",
    "\n",
    "print summary_m.shape\n",
    "summary_m.head()"
   ]
  },
  {
   "cell_type": "code",
   "execution_count": 20,
   "metadata": {
    "collapsed": false
   },
   "outputs": [
    {
     "name": "stderr",
     "output_type": "stream",
     "text": [
      "/home/vova/anaconda2/lib/python2.7/site-packages/lifetimes/utils.py:149: FutureWarning: Freq \"Y\" is deprecated, use \"A\" as alternative.\n",
      "  observation_period_end = pd.to_datetime(observation_period_end, format=datetime_format).to_period(freq)\n",
      "/home/vova/anaconda2/lib/python2.7/site-packages/pandas/tseries/period.py:55: FutureWarning: Freq \"Y\" is deprecated, use \"A\" as alternative.\n",
      "  base, mult = _gfc(freq)\n"
     ]
    },
    {
     "name": "stdout",
     "output_type": "stream",
     "text": [
      "(56, 4)\n"
     ]
    },
    {
     "data": {
      "text/html": [
       "<div>\n",
       "<table border=\"1\" class=\"dataframe\">\n",
       "  <thead>\n",
       "    <tr style=\"text-align: right;\">\n",
       "      <th></th>\n",
       "      <th>frequency</th>\n",
       "      <th>recency</th>\n",
       "      <th>T</th>\n",
       "      <th>monetary_value</th>\n",
       "    </tr>\n",
       "    <tr>\n",
       "      <th>AccountID</th>\n",
       "      <th></th>\n",
       "      <th></th>\n",
       "      <th></th>\n",
       "      <th></th>\n",
       "    </tr>\n",
       "  </thead>\n",
       "  <tbody>\n",
       "    <tr>\n",
       "      <th>1</th>\n",
       "      <td>8</td>\n",
       "      <td>8</td>\n",
       "      <td>8</td>\n",
       "      <td>461.125000</td>\n",
       "    </tr>\n",
       "    <tr>\n",
       "      <th>6</th>\n",
       "      <td>8</td>\n",
       "      <td>8</td>\n",
       "      <td>8</td>\n",
       "      <td>1274.125000</td>\n",
       "    </tr>\n",
       "    <tr>\n",
       "      <th>8</th>\n",
       "      <td>0</td>\n",
       "      <td>0</td>\n",
       "      <td>7</td>\n",
       "      <td>0.000000</td>\n",
       "    </tr>\n",
       "    <tr>\n",
       "      <th>10</th>\n",
       "      <td>0</td>\n",
       "      <td>0</td>\n",
       "      <td>8</td>\n",
       "      <td>0.000000</td>\n",
       "    </tr>\n",
       "    <tr>\n",
       "      <th>11</th>\n",
       "      <td>7</td>\n",
       "      <td>7</td>\n",
       "      <td>7</td>\n",
       "      <td>2385.571429</td>\n",
       "    </tr>\n",
       "  </tbody>\n",
       "</table>\n",
       "</div>"
      ],
      "text/plain": [
       "           frequency  recency  T  monetary_value\n",
       "AccountID                                       \n",
       "1                  8        8  8      461.125000\n",
       "6                  8        8  8     1274.125000\n",
       "8                  0        0  7        0.000000\n",
       "10                 0        0  8        0.000000\n",
       "11                 7        7  7     2385.571429"
      ]
     },
     "execution_count": 20,
     "metadata": {},
     "output_type": "execute_result"
    }
   ],
   "source": [
    "summary_y = summary_data_from_transaction_data(\n",
    "    df_date, \n",
    "    customer_id_col='AccountID', \n",
    "    datetime_col='TransitionDate',\n",
    "    monetary_value_col='Value',\n",
    "    freq='Y'                            \n",
    ")\n",
    "\n",
    "print summary_y.shape\n",
    "summary_y.head()"
   ]
  },
  {
   "cell_type": "markdown",
   "metadata": {},
   "source": [
    "Remain only those records where frequency > 0"
   ]
  },
  {
   "cell_type": "code",
   "execution_count": 21,
   "metadata": {
    "collapsed": false,
    "scrolled": true
   },
   "outputs": [
    {
     "name": "stdout",
     "output_type": "stream",
     "text": [
      "returning_summary_m.shape: (53, 4)\n",
      "returning_summary_y.shape: (42, 4)\n"
     ]
    },
    {
     "data": {
      "text/html": [
       "<div>\n",
       "<table border=\"1\" class=\"dataframe\">\n",
       "  <thead>\n",
       "    <tr style=\"text-align: right;\">\n",
       "      <th></th>\n",
       "      <th>frequency</th>\n",
       "      <th>recency</th>\n",
       "      <th>T</th>\n",
       "      <th>monetary_value</th>\n",
       "    </tr>\n",
       "    <tr>\n",
       "      <th>AccountID</th>\n",
       "      <th></th>\n",
       "      <th></th>\n",
       "      <th></th>\n",
       "      <th></th>\n",
       "    </tr>\n",
       "  </thead>\n",
       "  <tbody>\n",
       "    <tr>\n",
       "      <th>1</th>\n",
       "      <td>75</td>\n",
       "      <td>94</td>\n",
       "      <td>95</td>\n",
       "      <td>49.266667</td>\n",
       "    </tr>\n",
       "    <tr>\n",
       "      <th>6</th>\n",
       "      <td>63</td>\n",
       "      <td>94</td>\n",
       "      <td>95</td>\n",
       "      <td>181.682540</td>\n",
       "    </tr>\n",
       "    <tr>\n",
       "      <th>8</th>\n",
       "      <td>1</td>\n",
       "      <td>1</td>\n",
       "      <td>88</td>\n",
       "      <td>270.000000</td>\n",
       "    </tr>\n",
       "    <tr>\n",
       "      <th>10</th>\n",
       "      <td>1</td>\n",
       "      <td>1</td>\n",
       "      <td>95</td>\n",
       "      <td>157.000000</td>\n",
       "    </tr>\n",
       "    <tr>\n",
       "      <th>11</th>\n",
       "      <td>70</td>\n",
       "      <td>78</td>\n",
       "      <td>79</td>\n",
       "      <td>240.400000</td>\n",
       "    </tr>\n",
       "  </tbody>\n",
       "</table>\n",
       "</div>"
      ],
      "text/plain": [
       "           frequency  recency   T  monetary_value\n",
       "AccountID                                        \n",
       "1                 75       94  95       49.266667\n",
       "6                 63       94  95      181.682540\n",
       "8                  1        1  88      270.000000\n",
       "10                 1        1  95      157.000000\n",
       "11                70       78  79      240.400000"
      ]
     },
     "execution_count": 21,
     "metadata": {},
     "output_type": "execute_result"
    }
   ],
   "source": [
    "returning_summary_m = summary_m[summary_m['frequency']>0]\n",
    "returning_summary_y = summary_y[summary_y['frequency']>0]\n",
    "\n",
    "print \"returning_summary_m.shape:\", returning_summary_m.shape\n",
    "print \"returning_summary_y.shape:\", returning_summary_y.shape\n",
    "returning_summary_m.head()"
   ]
  },
  {
   "cell_type": "markdown",
   "metadata": {},
   "source": [
    "The model we are going to use now to estimate the LTV is the Gamma-Gamma submodel (some info can be found [here](http://www.brucehardie.com/notes/025/gamma_gamma.pdf) and [here](http://www.brucehardie.com/papers/rfm_clv_2005-02-16.pdf)), which relies upon an important assumption. The Gamma-Gamma submodel, in fact, assumes that there is no relationship between the monetary value and the purchase frequency. In practice we need to check whether the Pearson correlation between the two vectors is close to 0 in order to use this model."
   ]
  },
  {
   "cell_type": "code",
   "execution_count": 22,
   "metadata": {
    "collapsed": false
   },
   "outputs": [
    {
     "name": "stdout",
     "output_type": "stream",
     "text": [
      "Months:\n",
      "                monetary_value  frequency\n",
      "monetary_value        1.000000   0.288765\n",
      "frequency             0.288765   1.000000\n",
      "\n",
      "Years:\n",
      "                monetary_value  frequency\n",
      "monetary_value        1.000000   0.481055\n",
      "frequency             0.481055   1.000000\n"
     ]
    }
   ],
   "source": [
    "print \"Months:\"\n",
    "print returning_summary_m[['monetary_value', 'frequency']].corr()\n",
    "\n",
    "print \"\\nYears:\"\n",
    "print returning_summary_y[['monetary_value', 'frequency']].corr()"
   ]
  },
  {
   "cell_type": "markdown",
   "metadata": {},
   "source": [
    "As we can see for annually processed data correlation is too high, that's why we consider only `returning_summary_m` and display the computed conditional expectation of the average profit per transaction for a group of one or more customers"
   ]
  },
  {
   "cell_type": "code",
   "execution_count": 23,
   "metadata": {
    "collapsed": false
   },
   "outputs": [
    {
     "data": {
      "text/plain": [
       "AccountID\n",
       "1      51.744819\n",
       "6     182.529547\n",
       "8     252.486750\n",
       "10    196.354834\n",
       "11    240.325817\n",
       "13    166.690585\n",
       "14    272.677176\n",
       "16     52.031709\n",
       "17     88.707155\n",
       "19     44.667476\n",
       "dtype: float64"
      ]
     },
     "execution_count": 23,
     "metadata": {},
     "output_type": "execute_result"
    }
   ],
   "source": [
    "ggf = GammaGammaFitter()\n",
    "ggf.fit(returning_summary_m['frequency'], returning_summary_m['monetary_value'])   \n",
    "\n",
    "ggf.conditional_expected_average_profit(summary_m['frequency'], summary_m['monetary_value']).head(10)"
   ]
  },
  {
   "cell_type": "markdown",
   "metadata": {
    "collapsed": true
   },
   "source": [
    "We'll use the BG/NBD model to calculate the LTV value (more info [here](http://mktg.uni-svishtov.bg/ivm/resources/Counting_Your_Customers.pdf))"
   ]
  },
  {
   "cell_type": "code",
   "execution_count": 24,
   "metadata": {
    "collapsed": false
   },
   "outputs": [
    {
     "data": {
      "text/plain": [
       "AccountID\n",
       "1     1637.436025\n",
       "6     4866.540349\n",
       "8        0.826135\n",
       "10       0.503361\n",
       "11    8432.144425\n",
       "13    2272.696429\n",
       "14      46.950930\n",
       "16     486.805046\n",
       "17       0.066078\n",
       "19    1073.277636\n",
       "Name: clv, dtype: float64"
      ]
     },
     "execution_count": 24,
     "metadata": {},
     "output_type": "execute_result"
    }
   ],
   "source": [
    "bgf = BetaGeoFitter()\n",
    "\n",
    "# fit the BG model to the summary_with_money_value dataset\n",
    "bgf.fit(summary_m['frequency'], summary_m['recency'], summary_m['T'])\n",
    "\n",
    "CLV = ggf.customer_lifetime_value(\n",
    "    bgf, #the model to use to predict the number of future transactions\n",
    "    summary_m['frequency'],\n",
    "    summary_m['recency'],\n",
    "    summary_m['T'],\n",
    "    summary_m['monetary_value'],\n",
    "    time=12, # months\n",
    "    discount_rate=0.7\n",
    ")\n",
    "CLV.head(10)"
   ]
  },
  {
   "cell_type": "markdown",
   "metadata": {},
   "source": [
    "Thus we calculate the CLV for each account.\n",
    "\n",
    "## Calculate CLV for each industry\n",
    "\n",
    "At first find which AccountIDs corresponds to which industry category"
   ]
  },
  {
   "cell_type": "code",
   "execution_count": 25,
   "metadata": {
    "collapsed": false
   },
   "outputs": [
    {
     "data": {
      "text/plain": [
       "{u'C': array([  49.,  132.]),\n",
       " u'D': array([  19.,   22.,  115.,  116.]),\n",
       " u'EO': array([  17.,   96.,  108.,  109.]),\n",
       " u'G': array([  43.,   94.,  137.]),\n",
       " u'M': array([ 16.]),\n",
       " u'Other': array([   1.,   10.,   25.,   38.,   66.,   73.,   92.,   98.,  104.,\n",
       "         112.,  119.,  123.,  129.,  138.,  139.,  140.]),\n",
       " u'S': array([   6.,    8.,   11.,   13.,   14.,   32.,   34.,   36.,   39.,\n",
       "          41.,   53.,   57.,   63.,   65.,   70.,   74.,   76.,   78.,\n",
       "          86.,  102.,  114.,  121.]),\n",
       " u'SC': array([ 28.,  89.]),\n",
       " u'T': array([  82.,  125.])}"
      ]
     },
     "execution_count": 25,
     "metadata": {},
     "output_type": "execute_result"
    }
   ],
   "source": [
    "customers = {}\n",
    "for ind in industries:\n",
    "    customers.update({ ind: np.unique(df_date[df_date['Industry'] == ind]['AccountID'].values) })\n",
    "customers"
   ]
  },
  {
   "cell_type": "markdown",
   "metadata": {},
   "source": [
    "Calculate the total CLV for each industry"
   ]
  },
  {
   "cell_type": "code",
   "execution_count": 26,
   "metadata": {
    "collapsed": false
   },
   "outputs": [
    {
     "data": {
      "text/plain": [
       "{u'C': 825.4,\n",
       " u'D': 6875.19,\n",
       " u'EO': 1038.92,\n",
       " u'G': 361.31,\n",
       " u'M': 486.81,\n",
       " u'Other': 35228.65,\n",
       " u'S': 84765.8,\n",
       " u'SC': 9822.96,\n",
       " u'T': 4276.9}"
      ]
     },
     "execution_count": 26,
     "metadata": {},
     "output_type": "execute_result"
    }
   ],
   "source": [
    "industry_LTV = {\n",
    "    industry: round(sum([CLV[CLV.index == int(ac_id)].values[0] for ac_id in ac_ids]), 2) for industry, ac_ids in customers.iteritems() \n",
    "}\n",
    "industry_LTV"
   ]
  },
  {
   "cell_type": "markdown",
   "metadata": {},
   "source": [
    "Thus, we get CLV close to obtained before, but the last approach gives more realistic results.\n",
    "\n",
    "### Add some visualiztions:\n",
    "\n",
    "#### a)  the Frequency/Recency matrix\n",
    "Suppose a customer bought from you every week for a few months straight, and we haven't heard from them in years. What are the chances they are still \"alive\"? Pretty small. On the other hand, a customer who historically buys from you once a quarter, and bought last quarter, is likely still alive. We can visualize this relationship using the Frequency/Recency matrix, which computes the expected number of transactions a artifical customer is to make in the next time period, given his or her recency (age at last purchase) and frequency (the number of repeat transactions he or she has made)."
   ]
  },
  {
   "cell_type": "code",
   "execution_count": 27,
   "metadata": {
    "collapsed": false
   },
   "outputs": [
    {
     "data": {
      "image/png": "[encoded data removed]",
      "text/plain": [
       "<matplotlib.figure.Figure at 0x7fc42ccd2350>"
      ]
     },
     "metadata": {},
     "output_type": "display_data"
    }
   ],
   "source": [
    "plt.rcParams['figure.figsize'] = (12, 12)\n",
    "plot_frequency_recency_matrix(bgf)\n",
    "plt.show()"
   ]
  },
  {
   "cell_type": "markdown",
   "metadata": {},
   "source": [
    "**What we see:**\n",
    "\n",
    "If a customer has bought about 70-90 times from you, and their lastest purchase was when they were about 85 weeks old, then they are your best customer (bottom-right). You coldest customers are those that in the top-right corner: they bought a lot quickly, and we haven't seen them in weeks.\n",
    "\n",
    "There's also that beautiful \"tail\" around (30,85). That represents the customer who buys infrequently, but we've seen him or her recently, so they might buy again - we're not sure if they are dead or just between purchases.\n",
    "\n",
    "#### b) Customer transaction history"
   ]
  },
  {
   "cell_type": "code",
   "execution_count": 28,
   "metadata": {
    "collapsed": false
   },
   "outputs": [
    {
     "data": {
      "image/png": "[encoded data removed]",
      "text/plain": [
       "<matplotlib.figure.Figure at 0x7fc42cbb9490>"
      ]
     },
     "metadata": {},
     "output_type": "display_data"
    }
   ],
   "source": [
    "plt.rcParams['figure.figsize'] = (18, 8)\n",
    "\n",
    "# Replace the AccountID the dynamic of activity of which you want to see\n",
    "id = 6\n",
    "try:\n",
    "    days_since_birth = 365*8\n",
    "    sp_trans = df_date.ix[df_date['AccountID'] == id]\n",
    "    plot_history_alive(bgf, days_since_birth, sp_trans, 'TransitionDate')\n",
    "    plt.show()\n",
    "except:\n",
    "    print \"AccountID was not found\""
   ]
  },
  {
   "cell_type": "markdown",
   "metadata": {},
   "source": [
    "# 4. Clusterization of AccountIDs by its activity (frequency and recency)"
   ]
  },
  {
   "cell_type": "code",
   "execution_count": 30,
   "metadata": {
    "collapsed": false
   },
   "outputs": [
    {
     "name": "stdout",
     "output_type": "stream",
     "text": [
      "bestK: 4\n"
     ]
    },
    {
     "data": {
      "image/png": "[encoded data removed]",
      "text/plain": [
       "<matplotlib.figure.Figure at 0x7fc416f524d0>"
      ]
     },
     "metadata": {},
     "output_type": "display_data"
    }
   ],
   "source": [
    "from scipy.spatial.distance import cdist, pdist\n",
    "from sklearn.cluster import KMeans\n",
    "import math\n",
    "\n",
    "data = summary_m[['frequency', 'recency']]\n",
    "\n",
    "# Find the best k (clusters amount) using Elbow method\n",
    "K = range(1,50)\n",
    "KM = [KMeans(n_clusters=k).fit(data) for k in K]\n",
    "centroids = [k.cluster_centers_ for k in KM]\n",
    "\n",
    "D_k = [cdist(data, cent, 'euclidean') for cent in centroids]\n",
    "cIdx = [np.argmin(D, axis=1) for D in D_k]\n",
    "dist = [np.min(D, axis=1) for D in D_k]\n",
    "wsse = [sum(d)/data.shape[0] for d in dist]\n",
    "\n",
    "last_angle = np.pi\n",
    "max_diff = 0.0\n",
    "bestK = 1\n",
    "for i in range(1, len(wsse)-2):\n",
    "    v0 = wsse[i-1] - wsse[i]\n",
    "    v1 = wsse[i+1] - wsse[i]\n",
    "    angle = np.arccos( (-1 + v0*v1) / (math.sqrt(1 + math.pow(v0, 2))) / (math.sqrt(1 + math.pow(v1, 2))) )\n",
    "    diff = angle - last_angle\n",
    "    if diff > max_diff: \n",
    "        max_diff = diff; \n",
    "        bestK = i\n",
    "    last_angle = angle;\n",
    "print \"bestK:\", bestK\n",
    "\n",
    "# Elbow curve\n",
    "fig = plt.figure()\n",
    "ax = fig.add_subplot(111)\n",
    "ax.plot(K[:15], wsse[:15], 'b*-')\n",
    "ax.plot(K[bestK-1], wsse[bestK-1], marker='o', markersize=12, markeredgewidth=2, markeredgecolor='r', markerfacecolor='None')\n",
    "plt.grid(True)\n",
    "plt.xlabel('Number of clusters')\n",
    "plt.ylabel('Average within-cluster sum of squares')\n",
    "plt.title('Elbow for KMeans clustering')\n",
    "plt.show()"
   ]
  },
  {
   "cell_type": "markdown",
   "metadata": {},
   "source": [
    "Above plot need to understand above code and its results"
   ]
  },
  {
   "cell_type": "code",
   "execution_count": 31,
   "metadata": {
    "collapsed": false
   },
   "outputs": [
    {
     "name": "stdout",
     "output_type": "stream",
     "text": [
      "Values of frequency and recency for some category\n",
      "[[ 14.61538462  39.07692308]\n",
      " [ 71.71428571  88.85714286]\n",
      " [  1.375        2.0625    ]\n",
      " [ 20.15384615  79.23076923]]\n",
      "[1, 1, 2, 2, 1, 3, 0, 3, 2, 3, 0, 0, 3, 1, 1, 2, 2, 3, 2, 2, 3, 1, 3, 3, 0, 0, 0, 2, 1, 2, 0, 1, 3, 1, 1, 0, 0, 2, 3, 1, 2, 3, 2, 2, 2, 1, 1, 0, 2, 2, 0, 3, 0, 0, 1, 3]\n"
     ]
    }
   ],
   "source": [
    "model = KMeans(n_clusters=bestK).fit(data)\n",
    "print \"Values of frequency and recency for some category\"\n",
    "print model.cluster_centers_\n",
    "\n",
    "# Here each number corresponds to some category\n",
    "print list(model.labels_)"
   ]
  },
  {
   "cell_type": "code",
   "execution_count": 32,
   "metadata": {
    "collapsed": false
   },
   "outputs": [
    {
     "data": {
      "text/html": [
       "<div>\n",
       "<table border=\"1\" class=\"dataframe\">\n",
       "  <thead>\n",
       "    <tr style=\"text-align: right;\">\n",
       "      <th></th>\n",
       "      <th>frequency</th>\n",
       "      <th>recency</th>\n",
       "      <th>T</th>\n",
       "      <th>monetary_value</th>\n",
       "      <th>category</th>\n",
       "    </tr>\n",
       "    <tr>\n",
       "      <th>AccountID</th>\n",
       "      <th></th>\n",
       "      <th></th>\n",
       "      <th></th>\n",
       "      <th></th>\n",
       "      <th></th>\n",
       "    </tr>\n",
       "  </thead>\n",
       "  <tbody>\n",
       "    <tr>\n",
       "      <th>1</th>\n",
       "      <td>75</td>\n",
       "      <td>94</td>\n",
       "      <td>95</td>\n",
       "      <td>49.266667</td>\n",
       "      <td>1</td>\n",
       "    </tr>\n",
       "    <tr>\n",
       "      <th>6</th>\n",
       "      <td>63</td>\n",
       "      <td>94</td>\n",
       "      <td>95</td>\n",
       "      <td>181.682540</td>\n",
       "      <td>1</td>\n",
       "    </tr>\n",
       "    <tr>\n",
       "      <th>8</th>\n",
       "      <td>1</td>\n",
       "      <td>1</td>\n",
       "      <td>88</td>\n",
       "      <td>270.000000</td>\n",
       "      <td>2</td>\n",
       "    </tr>\n",
       "    <tr>\n",
       "      <th>10</th>\n",
       "      <td>1</td>\n",
       "      <td>1</td>\n",
       "      <td>95</td>\n",
       "      <td>157.000000</td>\n",
       "      <td>2</td>\n",
       "    </tr>\n",
       "    <tr>\n",
       "      <th>11</th>\n",
       "      <td>70</td>\n",
       "      <td>78</td>\n",
       "      <td>79</td>\n",
       "      <td>240.400000</td>\n",
       "      <td>1</td>\n",
       "    </tr>\n",
       "    <tr>\n",
       "      <th>13</th>\n",
       "      <td>31</td>\n",
       "      <td>92</td>\n",
       "      <td>93</td>\n",
       "      <td>164.451613</td>\n",
       "      <td>3</td>\n",
       "    </tr>\n",
       "    <tr>\n",
       "      <th>14</th>\n",
       "      <td>3</td>\n",
       "      <td>26</td>\n",
       "      <td>95</td>\n",
       "      <td>285.333333</td>\n",
       "      <td>0</td>\n",
       "    </tr>\n",
       "    <tr>\n",
       "      <th>16</th>\n",
       "      <td>18</td>\n",
       "      <td>68</td>\n",
       "      <td>76</td>\n",
       "      <td>41.722222</td>\n",
       "      <td>3</td>\n",
       "    </tr>\n",
       "    <tr>\n",
       "      <th>17</th>\n",
       "      <td>2</td>\n",
       "      <td>2</td>\n",
       "      <td>95</td>\n",
       "      <td>14.500000</td>\n",
       "      <td>2</td>\n",
       "    </tr>\n",
       "    <tr>\n",
       "      <th>19</th>\n",
       "      <td>39</td>\n",
       "      <td>63</td>\n",
       "      <td>64</td>\n",
       "      <td>39.717949</td>\n",
       "      <td>3</td>\n",
       "    </tr>\n",
       "  </tbody>\n",
       "</table>\n",
       "</div>"
      ],
      "text/plain": [
       "           frequency  recency   T  monetary_value  category\n",
       "AccountID                                                  \n",
       "1                 75       94  95       49.266667         1\n",
       "6                 63       94  95      181.682540         1\n",
       "8                  1        1  88      270.000000         2\n",
       "10                 1        1  95      157.000000         2\n",
       "11                70       78  79      240.400000         1\n",
       "13                31       92  93      164.451613         3\n",
       "14                 3       26  95      285.333333         0\n",
       "16                18       68  76       41.722222         3\n",
       "17                 2        2  95       14.500000         2\n",
       "19                39       63  64       39.717949         3"
      ]
     },
     "execution_count": 32,
     "metadata": {},
     "output_type": "execute_result"
    }
   ],
   "source": [
    "summary_m_clusters = summary_m.copy()\n",
    "summary_m_clusters['category'] = model.labels_\n",
    "summary_m_clusters.head(10)"
   ]
  },
  {
   "cell_type": "markdown",
   "metadata": {},
   "source": [
    "** What we see (for the case of 4 clusters):**\n",
    "\n",
    "* There are 4 AccountID groups: \n",
    "    * 0 - with moderate values of frequency\tand recency\n",
    "    * 1 - with high values of frequency\tand recency\n",
    "    * 2 - with too low values of frequency and recency\n",
    "    * 3 - with low (or moderate) frequency but with high recency\n",
    "    \n",
    "Count AccountIDs amount for each category"
   ]
  },
  {
   "cell_type": "code",
   "execution_count": 33,
   "metadata": {
    "collapsed": false
   },
   "outputs": [
    {
     "data": {
      "image/png": "[encoded data removed]",
      "text/plain": [
       "<matplotlib.figure.Figure at 0x7fc41703a710>"
      ]
     },
     "metadata": {},
     "output_type": "display_data"
    }
   ],
   "source": [
    "amount = [summary_m_clusters[summary_m_clusters['category'] == i]['T'].count() for i in range(bestK)]\n",
    "ind = np.arange(bestK)\n",
    "\n",
    "fig, ax = plt.subplots(figsize=(10, 6))\n",
    "ax.bar(ind-0.5, amount, width=1, color='g')\n",
    "ax.set_xticks(ind)\n",
    "ax.set_xticklabels(range(bestK))\n",
    "plt.show()"
   ]
  },
  {
   "cell_type": "markdown",
   "metadata": {
    "collapsed": true
   },
   "source": [
    "# 5. Churn prediction (first steps)"
   ]
  },
  {
   "cell_type": "code",
   "execution_count": 34,
   "metadata": {
    "collapsed": false
   },
   "outputs": [
    {
     "name": "stderr",
     "output_type": "stream",
     "text": [
      "A newer version of GraphLab Create (v1.10.1) is available! Your current version is v1.9.\n",
      "\n",
      "You can use pip to upgrade the graphlab-create package. For more information see https://dato.com/products/create/upgrade.\n",
      "2016-06-28 19:58:01,701 [INFO] graphlab.cython.cy_server, 176: GraphLab Create v1.9 started. Logging: /tmp/graphlab_server_1467133079.log\n"
     ]
    },
    {
     "name": "stdout",
     "output_type": "stream",
     "text": [
      "This non-commercial license of GraphLab Create is assigned to rospotnyk@gmail.com and will expire on May 20, 2017. For commercial licensing options, visit https://dato.com/buy/.\n"
     ]
    },
    {
     "data": {
      "text/html": [
       "<div style=\"max-height:1000px;max-width:1500px;overflow:auto;\"><table frame=\"box\" rules=\"cols\">\n",
       "    <tr>\n",
       "        <th style=\"padding-left: 1em; padding-right: 1em; text-align: center\">AccountID</th>\n",
       "        <th style=\"padding-left: 1em; padding-right: 1em; text-align: center\">Industry</th>\n",
       "        <th style=\"padding-left: 1em; padding-right: 1em; text-align: center\">Value</th>\n",
       "        <th style=\"padding-left: 1em; padding-right: 1em; text-align: center\">TransitionDate</th>\n",
       "    </tr>\n",
       "    <tr>\n",
       "        <td style=\"padding-left: 1em; padding-right: 1em; text-align: center; vertical-align: top\">1</td>\n",
       "        <td style=\"padding-left: 1em; padding-right: 1em; text-align: center; vertical-align: top\">Other</td>\n",
       "        <td style=\"padding-left: 1em; padding-right: 1em; text-align: center; vertical-align: top\">8.0</td>\n",
       "        <td style=\"padding-left: 1em; padding-right: 1em; text-align: center; vertical-align: top\">2008-07-01 00:00:00</td>\n",
       "    </tr>\n",
       "    <tr>\n",
       "        <td style=\"padding-left: 1em; padding-right: 1em; text-align: center; vertical-align: top\">1</td>\n",
       "        <td style=\"padding-left: 1em; padding-right: 1em; text-align: center; vertical-align: top\">Other</td>\n",
       "        <td style=\"padding-left: 1em; padding-right: 1em; text-align: center; vertical-align: top\">4.0</td>\n",
       "        <td style=\"padding-left: 1em; padding-right: 1em; text-align: center; vertical-align: top\">2008-08-01 00:00:00</td>\n",
       "    </tr>\n",
       "    <tr>\n",
       "        <td style=\"padding-left: 1em; padding-right: 1em; text-align: center; vertical-align: top\">1</td>\n",
       "        <td style=\"padding-left: 1em; padding-right: 1em; text-align: center; vertical-align: top\">Other</td>\n",
       "        <td style=\"padding-left: 1em; padding-right: 1em; text-align: center; vertical-align: top\">1.0</td>\n",
       "        <td style=\"padding-left: 1em; padding-right: 1em; text-align: center; vertical-align: top\">2008-10-01 00:00:00</td>\n",
       "    </tr>\n",
       "    <tr>\n",
       "        <td style=\"padding-left: 1em; padding-right: 1em; text-align: center; vertical-align: top\">1</td>\n",
       "        <td style=\"padding-left: 1em; padding-right: 1em; text-align: center; vertical-align: top\">Other</td>\n",
       "        <td style=\"padding-left: 1em; padding-right: 1em; text-align: center; vertical-align: top\">1.0</td>\n",
       "        <td style=\"padding-left: 1em; padding-right: 1em; text-align: center; vertical-align: top\">2008-12-01 00:00:00</td>\n",
       "    </tr>\n",
       "    <tr>\n",
       "        <td style=\"padding-left: 1em; padding-right: 1em; text-align: center; vertical-align: top\">1</td>\n",
       "        <td style=\"padding-left: 1em; padding-right: 1em; text-align: center; vertical-align: top\">Other</td>\n",
       "        <td style=\"padding-left: 1em; padding-right: 1em; text-align: center; vertical-align: top\">2.0</td>\n",
       "        <td style=\"padding-left: 1em; padding-right: 1em; text-align: center; vertical-align: top\">2009-02-01 00:00:00</td>\n",
       "    </tr>\n",
       "</table>\n",
       "[5 rows x 4 columns]<br/>\n",
       "</div>"
      ],
      "text/plain": [
       "Columns:\n",
       "\tAccountID\tint\n",
       "\tIndustry\tstr\n",
       "\tValue\tfloat\n",
       "\tTransitionDate\tdatetime\n",
       "\n",
       "Rows: 5\n",
       "\n",
       "Data:\n",
       "+-----------+----------+-------+---------------------+\n",
       "| AccountID | Industry | Value |    TransitionDate   |\n",
       "+-----------+----------+-------+---------------------+\n",
       "|     1     |  Other   |  8.0  | 2008-07-01 00:00:00 |\n",
       "|     1     |  Other   |  4.0  | 2008-08-01 00:00:00 |\n",
       "|     1     |  Other   |  1.0  | 2008-10-01 00:00:00 |\n",
       "|     1     |  Other   |  1.0  | 2008-12-01 00:00:00 |\n",
       "|     1     |  Other   |  2.0  | 2009-02-01 00:00:00 |\n",
       "+-----------+----------+-------+---------------------+\n",
       "[5 rows x 4 columns]"
      ]
     },
     "execution_count": 34,
     "metadata": {},
     "output_type": "execute_result"
    }
   ],
   "source": [
    "# To run the below block you need install graphLab-Create. See https://dato.com/products/create/\n",
    "\n",
    "import graphlab as gl\n",
    "from dateutil import parser\n",
    "\n",
    "sf = gl.SFrame(df)\n",
    "sf['TransitionDate'] = sf.apply(lambda x: datetime.datetime.strptime(str(int(x['TransitionYear'])) + str(int(x['TransitionMonth'])) + '1', \"%Y%m%d\").date())\n",
    "sf = sf.remove_columns(['TransitionYear', 'TransitionMonth'])\n",
    "sf = sf.fillna('Value', 0)\n",
    "sf = sf[sf['Value'] != 0]\n",
    "sf['AccountID'] = sf['AccountID'].apply(lambda x: int(x))\n",
    "sf.head(5)"
   ]
  },
  {
   "cell_type": "code",
   "execution_count": 35,
   "metadata": {
    "collapsed": false
   },
   "outputs": [
    {
     "data": {
      "text/html": [
       "<div style=\"max-height:1000px;max-width:1500px;overflow:auto;\"><table frame=\"box\" rules=\"cols\">\n",
       "    <tr>\n",
       "        <th style=\"padding-left: 1em; padding-right: 1em; text-align: center\">TransitionDate</th>\n",
       "        <th style=\"padding-left: 1em; padding-right: 1em; text-align: center\">AccountID</th>\n",
       "        <th style=\"padding-left: 1em; padding-right: 1em; text-align: center\">Industry</th>\n",
       "        <th style=\"padding-left: 1em; padding-right: 1em; text-align: center\">Value</th>\n",
       "    </tr>\n",
       "    <tr>\n",
       "        <td style=\"padding-left: 1em; padding-right: 1em; text-align: center; vertical-align: top\">2008-07-01 00:00:00</td>\n",
       "        <td style=\"padding-left: 1em; padding-right: 1em; text-align: center; vertical-align: top\">1</td>\n",
       "        <td style=\"padding-left: 1em; padding-right: 1em; text-align: center; vertical-align: top\">Other</td>\n",
       "        <td style=\"padding-left: 1em; padding-right: 1em; text-align: center; vertical-align: top\">8.0</td>\n",
       "    </tr>\n",
       "    <tr>\n",
       "        <td style=\"padding-left: 1em; padding-right: 1em; text-align: center; vertical-align: top\">2008-07-01 00:00:00</td>\n",
       "        <td style=\"padding-left: 1em; padding-right: 1em; text-align: center; vertical-align: top\">6</td>\n",
       "        <td style=\"padding-left: 1em; padding-right: 1em; text-align: center; vertical-align: top\">S</td>\n",
       "        <td style=\"padding-left: 1em; padding-right: 1em; text-align: center; vertical-align: top\">41.0</td>\n",
       "    </tr>\n",
       "    <tr>\n",
       "        <td style=\"padding-left: 1em; padding-right: 1em; text-align: center; vertical-align: top\">2008-07-01 00:00:00</td>\n",
       "        <td style=\"padding-left: 1em; padding-right: 1em; text-align: center; vertical-align: top\">10</td>\n",
       "        <td style=\"padding-left: 1em; padding-right: 1em; text-align: center; vertical-align: top\">Other</td>\n",
       "        <td style=\"padding-left: 1em; padding-right: 1em; text-align: center; vertical-align: top\">49.0</td>\n",
       "    </tr>\n",
       "    <tr>\n",
       "        <td style=\"padding-left: 1em; padding-right: 1em; text-align: center; vertical-align: top\">2008-07-01 00:00:00</td>\n",
       "        <td style=\"padding-left: 1em; padding-right: 1em; text-align: center; vertical-align: top\">14</td>\n",
       "        <td style=\"padding-left: 1em; padding-right: 1em; text-align: center; vertical-align: top\">S</td>\n",
       "        <td style=\"padding-left: 1em; padding-right: 1em; text-align: center; vertical-align: top\">2.0</td>\n",
       "    </tr>\n",
       "    <tr>\n",
       "        <td style=\"padding-left: 1em; padding-right: 1em; text-align: center; vertical-align: top\">2008-07-01 00:00:00</td>\n",
       "        <td style=\"padding-left: 1em; padding-right: 1em; text-align: center; vertical-align: top\">17</td>\n",
       "        <td style=\"padding-left: 1em; padding-right: 1em; text-align: center; vertical-align: top\">EO</td>\n",
       "        <td style=\"padding-left: 1em; padding-right: 1em; text-align: center; vertical-align: top\">1.0</td>\n",
       "    </tr>\n",
       "</table>\n",
       "[5 rows x 4 columns]<br/>\n",
       "</div>"
      ],
      "text/plain": [
       "Columns:\n",
       "\tTransitionDate\tdatetime\n",
       "\tAccountID\tint\n",
       "\tIndustry\tstr\n",
       "\tValue\tfloat\n",
       "\n",
       "Rows: 5\n",
       "\n",
       "Data:\n",
       "+---------------------+-----------+----------+-------+\n",
       "|    TransitionDate   | AccountID | Industry | Value |\n",
       "+---------------------+-----------+----------+-------+\n",
       "| 2008-07-01 00:00:00 |     1     |  Other   |  8.0  |\n",
       "| 2008-07-01 00:00:00 |     6     |    S     |  41.0 |\n",
       "| 2008-07-01 00:00:00 |     10    |  Other   |  49.0 |\n",
       "| 2008-07-01 00:00:00 |     14    |    S     |  2.0  |\n",
       "| 2008-07-01 00:00:00 |     17    |    EO    |  1.0  |\n",
       "+---------------------+-----------+----------+-------+\n",
       "[5 rows x 4 columns]"
      ]
     },
     "execution_count": 35,
     "metadata": {},
     "output_type": "execute_result"
    }
   ],
   "source": [
    "# Convert the SFrame into TimeSeries with TransitionDate as the index.\n",
    "time_series = gl.TimeSeries(sf, 'TransitionDate')\n",
    "time_series.head(5)"
   ]
  },
  {
   "cell_type": "code",
   "execution_count": 36,
   "metadata": {
    "collapsed": false,
    "scrolled": true
   },
   "outputs": [
    {
     "name": "stdout",
     "output_type": "stream",
     "text": [
      "PROGRESS: Grouping observation_data by user.\n",
      "PROGRESS: Resampling grouped observation_data by time-period 1 day, 0:00:00.\n",
      "PROGRESS: No time boundaries specified, computing 10 boundaries from 2008-07-01 00:00:00 to 2016-05-01 00:00:00\n",
      "PROGRESS: Generating features for time-boundary.\n",
      "PROGRESS: --------------------------------------------------\n",
      "PROGRESS: Features for 2009-04-13 05:24:00.\n",
      "PROGRESS: Features for 2010-01-24 06:48:00.\n",
      "PROGRESS: Features for 2010-11-06 09:12:00.\n",
      "PROGRESS: Features for 2011-08-19 12:36:00.\n",
      "PROGRESS: Features for 2012-05-31 15:00:00.\n",
      "PROGRESS: Features for 2013-03-13 16:24:00.\n",
      "PROGRESS: Features for 2013-12-24 18:48:00.\n",
      "PROGRESS: Features for 2014-10-06 22:12:00.\n",
      "PROGRESS: Features for 2015-07-20 00:36:00.\n",
      "PROGRESS: Training a classifier model."
     ]
    },
    {
     "data": {
      "text/html": [
       "<pre>Boosted trees classifier:</pre>"
      ],
      "text/plain": [
       "Boosted trees classifier:"
      ]
     },
     "metadata": {},
     "output_type": "display_data"
    },
    {
     "data": {
      "text/html": [
       "<pre>--------------------------------------------------------</pre>"
      ],
      "text/plain": [
       "--------------------------------------------------------"
      ]
     },
     "metadata": {},
     "output_type": "display_data"
    },
    {
     "data": {
      "text/html": [
       "<pre>Number of examples          : 433</pre>"
      ],
      "text/plain": [
       "Number of examples          : 433"
      ]
     },
     "metadata": {},
     "output_type": "display_data"
    },
    {
     "data": {
      "text/html": [
       "<pre>Number of classes           : 2</pre>"
      ],
      "text/plain": [
       "Number of classes           : 2"
      ]
     },
     "metadata": {},
     "output_type": "display_data"
    },
    {
     "data": {
      "text/html": [
       "<pre>Number of feature columns   : 10</pre>"
      ],
      "text/plain": [
       "Number of feature columns   : 10"
      ]
     },
     "metadata": {},
     "output_type": "display_data"
    },
    {
     "data": {
      "text/html": [
       "<pre>Number of unpacked features : 119</pre>"
      ],
      "text/plain": [
       "Number of unpacked features : 119"
      ]
     },
     "metadata": {},
     "output_type": "display_data"
    },
    {
     "data": {
      "text/html": [
       "<pre>+-----------+--------------+-------------------+-------------------+</pre>"
      ],
      "text/plain": [
       "+-----------+--------------+-------------------+-------------------+"
      ]
     },
     "metadata": {},
     "output_type": "display_data"
    },
    {
     "data": {
      "text/html": [
       "<pre>| Iteration | Elapsed Time | Training-accuracy | Training-log_loss |</pre>"
      ],
      "text/plain": [
       "| Iteration | Elapsed Time | Training-accuracy | Training-log_loss |"
      ]
     },
     "metadata": {},
     "output_type": "display_data"
    },
    {
     "data": {
      "text/html": [
       "<pre>+-----------+--------------+-------------------+-------------------+</pre>"
      ],
      "text/plain": [
       "+-----------+--------------+-------------------+-------------------+"
      ]
     },
     "metadata": {},
     "output_type": "display_data"
    },
    {
     "data": {
      "text/html": [
       "<pre>| 1         | 0.002687     | 0.919169          | 0.524542          |</pre>"
      ],
      "text/plain": [
       "| 1         | 0.002687     | 0.919169          | 0.524542          |"
      ]
     },
     "metadata": {},
     "output_type": "display_data"
    },
    {
     "data": {
      "text/html": [
       "<pre>| 2         | 0.085542     | 0.919169          | 0.424528          |</pre>"
      ],
      "text/plain": [
       "| 2         | 0.085542     | 0.919169          | 0.424528          |"
      ]
     },
     "metadata": {},
     "output_type": "display_data"
    },
    {
     "data": {
      "text/html": [
       "<pre>| 3         | 0.092799     | 0.921478          | 0.361947          |</pre>"
      ],
      "text/plain": [
       "| 3         | 0.092799     | 0.921478          | 0.361947          |"
      ]
     },
     "metadata": {},
     "output_type": "display_data"
    },
    {
     "data": {
      "text/html": [
       "<pre>| 4         | 0.099386     | 0.912240          | 0.318678          |</pre>"
      ],
      "text/plain": [
       "| 4         | 0.099386     | 0.912240          | 0.318678          |"
      ]
     },
     "metadata": {},
     "output_type": "display_data"
    },
    {
     "data": {
      "text/html": [
       "<pre>| 5         | 0.102240     | 0.916859          | 0.285964          |</pre>"
      ],
      "text/plain": [
       "| 5         | 0.102240     | 0.916859          | 0.285964          |"
      ]
     },
     "metadata": {},
     "output_type": "display_data"
    },
    {
     "data": {
      "text/html": [
       "<pre>| 6         | 0.115725     | 0.928406          | 0.262638          |</pre>"
      ],
      "text/plain": [
       "| 6         | 0.115725     | 0.928406          | 0.262638          |"
      ]
     },
     "metadata": {},
     "output_type": "display_data"
    },
    {
     "data": {
      "text/html": [
       "<pre>+-----------+--------------+-------------------+-------------------+</pre>"
      ],
      "text/plain": [
       "+-----------+--------------+-------------------+-------------------+"
      ]
     },
     "metadata": {},
     "output_type": "display_data"
    },
    {
     "name": "stdout",
     "output_type": "stream",
     "text": [
      "\n",
      "PROGRESS: --------------------------------------------------\n",
      "PROGRESS: Model training complete: Next steps\n",
      "PROGRESS: --------------------------------------------------\n",
      "PROGRESS: (1) Evaluate the model at various timestamps in the past:\n",
      "PROGRESS:       metrics = model.evaluate(data, time_in_past)\n",
      "PROGRESS: (2) Make a churn forecast for a timestamp in the future:\n",
      "PROGRESS:       predictions = model.predict(data, time_in_future)\n",
      "PROGRESS: Making a churn forecast for the time window:\n",
      "PROGRESS: --------------------------------------------------\n",
      "PROGRESS:  Start : 2016-05-01 00:00:00\n",
      "PROGRESS:  End   : 2016-05-31 00:00:00\n",
      "PROGRESS: --------------------------------------------------\n",
      "PROGRESS: Grouping dataset by user.\n",
      "PROGRESS: Resampling grouped observation_data by time-period 1 day, 0:00:00.\n",
      "PROGRESS: Generating features for boundary 2016-05-01 00:00:00.\n"
     ]
    }
   ],
   "source": [
    "# Split the data using the special train, validation split. \n",
    "train, valid = gl.churn_predictor.random_split(time_series, user_id='AccountID', fraction=0.9)\n",
    "\n",
    "# Define the period of in-activity that constitutes churn. \n",
    "# Here we run algorithm for month's distribution\n",
    "churn_period = datetime.timedelta(days = 30)\n",
    "\n",
    "# Train a churn prediction model.\n",
    "model = gl.churn_predictor.create(train, user_id='AccountID', features = ['Value'], churn_period = churn_period)\n",
    "\n",
    "predictions = model.predict(time_series)"
   ]
  },
  {
   "cell_type": "markdown",
   "metadata": {},
   "source": [
    "The probability that a consumer will be not active in the nearest 30 days (we select 30 days before)"
   ]
  },
  {
   "cell_type": "code",
   "execution_count": 37,
   "metadata": {
    "collapsed": false
   },
   "outputs": [
    {
     "data": {
      "text/html": [
       "<div style=\"max-height:1000px;max-width:1500px;overflow:auto;\"><table frame=\"box\" rules=\"cols\">\n",
       "    <tr>\n",
       "        <th style=\"padding-left: 1em; padding-right: 1em; text-align: center\">AccountID</th>\n",
       "        <th style=\"padding-left: 1em; padding-right: 1em; text-align: center\">probability</th>\n",
       "    </tr>\n",
       "    <tr>\n",
       "        <td style=\"padding-left: 1em; padding-right: 1em; text-align: center; vertical-align: top\">1</td>\n",
       "        <td style=\"padding-left: 1em; padding-right: 1em; text-align: center; vertical-align: top\">0.21917155385</td>\n",
       "    </tr>\n",
       "    <tr>\n",
       "        <td style=\"padding-left: 1em; padding-right: 1em; text-align: center; vertical-align: top\">6</td>\n",
       "        <td style=\"padding-left: 1em; padding-right: 1em; text-align: center; vertical-align: top\">0.165198639035</td>\n",
       "    </tr>\n",
       "    <tr>\n",
       "        <td style=\"padding-left: 1em; padding-right: 1em; text-align: center; vertical-align: top\">8</td>\n",
       "        <td style=\"padding-left: 1em; padding-right: 1em; text-align: center; vertical-align: top\">0.952323019505</td>\n",
       "    </tr>\n",
       "    <tr>\n",
       "        <td style=\"padding-left: 1em; padding-right: 1em; text-align: center; vertical-align: top\">10</td>\n",
       "        <td style=\"padding-left: 1em; padding-right: 1em; text-align: center; vertical-align: top\">0.952323019505</td>\n",
       "    </tr>\n",
       "    <tr>\n",
       "        <td style=\"padding-left: 1em; padding-right: 1em; text-align: center; vertical-align: top\">11</td>\n",
       "        <td style=\"padding-left: 1em; padding-right: 1em; text-align: center; vertical-align: top\">0.141367644072</td>\n",
       "    </tr>\n",
       "    <tr>\n",
       "        <td style=\"padding-left: 1em; padding-right: 1em; text-align: center; vertical-align: top\">13</td>\n",
       "        <td style=\"padding-left: 1em; padding-right: 1em; text-align: center; vertical-align: top\">0.0716117843986</td>\n",
       "    </tr>\n",
       "    <tr>\n",
       "        <td style=\"padding-left: 1em; padding-right: 1em; text-align: center; vertical-align: top\">14</td>\n",
       "        <td style=\"padding-left: 1em; padding-right: 1em; text-align: center; vertical-align: top\">0.961969316006</td>\n",
       "    </tr>\n",
       "    <tr>\n",
       "        <td style=\"padding-left: 1em; padding-right: 1em; text-align: center; vertical-align: top\">16</td>\n",
       "        <td style=\"padding-left: 1em; padding-right: 1em; text-align: center; vertical-align: top\">0.91025274992</td>\n",
       "    </tr>\n",
       "    <tr>\n",
       "        <td style=\"padding-left: 1em; padding-right: 1em; text-align: center; vertical-align: top\">17</td>\n",
       "        <td style=\"padding-left: 1em; padding-right: 1em; text-align: center; vertical-align: top\">0.952323019505</td>\n",
       "    </tr>\n",
       "    <tr>\n",
       "        <td style=\"padding-left: 1em; padding-right: 1em; text-align: center; vertical-align: top\">19</td>\n",
       "        <td style=\"padding-left: 1em; padding-right: 1em; text-align: center; vertical-align: top\">0.225544884801</td>\n",
       "    </tr>\n",
       "</table>\n",
       "[56 rows x 2 columns]<br/>Note: Only the head of the SFrame is printed.<br/>You can use print_rows(num_rows=m, num_columns=n) to print more rows and columns.\n",
       "</div>"
      ],
      "text/plain": [
       "Columns:\n",
       "\tAccountID\tint\n",
       "\tprobability\tfloat\n",
       "\n",
       "Rows: 56\n",
       "\n",
       "Data:\n",
       "+-----------+-----------------+\n",
       "| AccountID |   probability   |\n",
       "+-----------+-----------------+\n",
       "|     1     |  0.21917155385  |\n",
       "|     6     |  0.165198639035 |\n",
       "|     8     |  0.952323019505 |\n",
       "|     10    |  0.952323019505 |\n",
       "|     11    |  0.141367644072 |\n",
       "|     13    | 0.0716117843986 |\n",
       "|     14    |  0.961969316006 |\n",
       "|     16    |  0.91025274992  |\n",
       "|     17    |  0.952323019505 |\n",
       "|     19    |  0.225544884801 |\n",
       "+-----------+-----------------+\n",
       "[56 rows x 2 columns]\n",
       "Note: Only the head of the SFrame is printed.\n",
       "You can use print_rows(num_rows=m, num_columns=n) to print more rows and columns."
      ]
     },
     "execution_count": 37,
     "metadata": {},
     "output_type": "execute_result"
    }
   ],
   "source": [
    "predictions"
   ]
  },
  {
   "cell_type": "markdown",
   "metadata": {},
   "source": [
    "Similar predictions for a half of a year"
   ]
  },
  {
   "cell_type": "code",
   "execution_count": 38,
   "metadata": {
    "collapsed": false,
    "scrolled": true
   },
   "outputs": [
    {
     "name": "stdout",
     "output_type": "stream",
     "text": [
      "PROGRESS: Grouping observation_data by user.\n",
      "PROGRESS: Resampling grouped observation_data by time-period 1 day, 0:00:00.\n",
      "PROGRESS: No time boundaries specified, computing 10 boundaries from 2008-07-01 00:00:00 to 2016-05-01 00:00:00\n",
      "PROGRESS: Generating features for time-boundary.\n",
      "PROGRESS: --------------------------------------------------\n",
      "PROGRESS: Features for 2009-04-13 05:24:00.\n",
      "PROGRESS: Features for 2010-01-24 06:48:00.\n",
      "PROGRESS: Features for 2010-11-06 09:12:00.\n",
      "PROGRESS: Features for 2011-08-19 12:36:00.\n",
      "PROGRESS: Features for 2012-05-31 15:00:00.\n",
      "PROGRESS: Features for 2013-03-13 16:24:00.\n",
      "PROGRESS: Features for 2013-12-24 18:48:00.\n",
      "PROGRESS: Features for 2014-10-06 22:12:00.\n",
      "PROGRESS: Features for 2015-07-20 00:36:00.\n",
      "PROGRESS: Training a classifier model."
     ]
    },
    {
     "data": {
      "text/html": [
       "<pre>Boosted trees classifier:</pre>"
      ],
      "text/plain": [
       "Boosted trees classifier:"
      ]
     },
     "metadata": {},
     "output_type": "display_data"
    },
    {
     "data": {
      "text/html": [
       "<pre>--------------------------------------------------------</pre>"
      ],
      "text/plain": [
       "--------------------------------------------------------"
      ]
     },
     "metadata": {},
     "output_type": "display_data"
    },
    {
     "data": {
      "text/html": [
       "<pre>Number of examples          : 398</pre>"
      ],
      "text/plain": [
       "Number of examples          : 398"
      ]
     },
     "metadata": {},
     "output_type": "display_data"
    },
    {
     "data": {
      "text/html": [
       "<pre>Number of classes           : 2</pre>"
      ],
      "text/plain": [
       "Number of classes           : 2"
      ]
     },
     "metadata": {},
     "output_type": "display_data"
    },
    {
     "data": {
      "text/html": [
       "<pre>Number of feature columns   : 10</pre>"
      ],
      "text/plain": [
       "Number of feature columns   : 10"
      ]
     },
     "metadata": {},
     "output_type": "display_data"
    },
    {
     "data": {
      "text/html": [
       "<pre>Number of unpacked features : 119</pre>"
      ],
      "text/plain": [
       "Number of unpacked features : 119"
      ]
     },
     "metadata": {},
     "output_type": "display_data"
    },
    {
     "data": {
      "text/html": [
       "<pre>+-----------+--------------+-------------------+-------------------+</pre>"
      ],
      "text/plain": [
       "+-----------+--------------+-------------------+-------------------+"
      ]
     },
     "metadata": {},
     "output_type": "display_data"
    },
    {
     "data": {
      "text/html": [
       "<pre>| Iteration | Elapsed Time | Training-accuracy | Training-log_loss |</pre>"
      ],
      "text/plain": [
       "| Iteration | Elapsed Time | Training-accuracy | Training-log_loss |"
      ]
     },
     "metadata": {},
     "output_type": "display_data"
    },
    {
     "data": {
      "text/html": [
       "<pre>+-----------+--------------+-------------------+-------------------+</pre>"
      ],
      "text/plain": [
       "+-----------+--------------+-------------------+-------------------+"
      ]
     },
     "metadata": {},
     "output_type": "display_data"
    },
    {
     "data": {
      "text/html": [
       "<pre>| 1         | 0.000997     | 0.881910          | 0.536926          |</pre>"
      ],
      "text/plain": [
       "| 1         | 0.000997     | 0.881910          | 0.536926          |"
      ]
     },
     "metadata": {},
     "output_type": "display_data"
    },
    {
     "data": {
      "text/html": [
       "<pre>| 2         | 0.001951     | 0.874372          | 0.445832          |</pre>"
      ],
      "text/plain": [
       "| 2         | 0.001951     | 0.874372          | 0.445832          |"
      ]
     },
     "metadata": {},
     "output_type": "display_data"
    },
    {
     "data": {
      "text/html": [
       "<pre>| 3         | 0.022952     | 0.879397          | 0.388631          |</pre>"
      ],
      "text/plain": [
       "| 3         | 0.022952     | 0.879397          | 0.388631          |"
      ]
     },
     "metadata": {},
     "output_type": "display_data"
    },
    {
     "data": {
      "text/html": [
       "<pre>| 4         | 0.028790     | 0.886935          | 0.346167          |</pre>"
      ],
      "text/plain": [
       "| 4         | 0.028790     | 0.886935          | 0.346167          |"
      ]
     },
     "metadata": {},
     "output_type": "display_data"
    },
    {
     "data": {
      "text/html": [
       "<pre>| 5         | 0.039450     | 0.889447          | 0.315473          |</pre>"
      ],
      "text/plain": [
       "| 5         | 0.039450     | 0.889447          | 0.315473          |"
      ]
     },
     "metadata": {},
     "output_type": "display_data"
    },
    {
     "data": {
      "text/html": [
       "<pre>| 6         | 0.049846     | 0.886935          | 0.293598          |</pre>"
      ],
      "text/plain": [
       "| 6         | 0.049846     | 0.886935          | 0.293598          |"
      ]
     },
     "metadata": {},
     "output_type": "display_data"
    },
    {
     "data": {
      "text/html": [
       "<pre>+-----------+--------------+-------------------+-------------------+</pre>"
      ],
      "text/plain": [
       "+-----------+--------------+-------------------+-------------------+"
      ]
     },
     "metadata": {},
     "output_type": "display_data"
    },
    {
     "name": "stdout",
     "output_type": "stream",
     "text": [
      "\n",
      "PROGRESS: --------------------------------------------------\n",
      "PROGRESS: Model training complete: Next steps\n",
      "PROGRESS: --------------------------------------------------\n",
      "PROGRESS: (1) Evaluate the model at various timestamps in the past:\n",
      "PROGRESS:       metrics = model.evaluate(data, time_in_past)\n",
      "PROGRESS: (2) Make a churn forecast for a timestamp in the future:\n",
      "PROGRESS:       predictions = model.predict(data, time_in_future)\n",
      "PROGRESS: Making a churn forecast for the time window:\n",
      "PROGRESS: --------------------------------------------------\n",
      "PROGRESS:  Start : 2016-05-01 00:00:00\n",
      "PROGRESS:  End   : 2016-10-28 00:00:00\n",
      "PROGRESS: --------------------------------------------------\n",
      "PROGRESS: Grouping dataset by user.\n",
      "PROGRESS: Resampling grouped observation_data by time-period 1 day, 0:00:00.\n",
      "PROGRESS: Generating features for boundary 2016-05-01 00:00:00.\n"
     ]
    }
   ],
   "source": [
    "# Split the data using the special train, validation split. \n",
    "train, valid = gl.churn_predictor.random_split(time_series, user_id='AccountID', fraction=0.9)\n",
    "\n",
    "# Define the period of in-activity that constitutes churn. \n",
    "churn_period = datetime.timedelta(days = 180)\n",
    "\n",
    "# Train a churn prediction model.\n",
    "model = gl.churn_predictor.create(train, user_id='AccountID', features = ['Value'], churn_period = churn_period)\n",
    "\n",
    "predictions = model.predict(time_series)"
   ]
  },
  {
   "cell_type": "code",
   "execution_count": 39,
   "metadata": {
    "collapsed": false
   },
   "outputs": [
    {
     "data": {
      "text/html": [
       "<div style=\"max-height:1000px;max-width:1500px;overflow:auto;\"><table frame=\"box\" rules=\"cols\">\n",
       "    <tr>\n",
       "        <th style=\"padding-left: 1em; padding-right: 1em; text-align: center\">AccountID</th>\n",
       "        <th style=\"padding-left: 1em; padding-right: 1em; text-align: center\">probability</th>\n",
       "    </tr>\n",
       "    <tr>\n",
       "        <td style=\"padding-left: 1em; padding-right: 1em; text-align: center; vertical-align: top\">1</td>\n",
       "        <td style=\"padding-left: 1em; padding-right: 1em; text-align: center; vertical-align: top\">0.0396526828408</td>\n",
       "    </tr>\n",
       "    <tr>\n",
       "        <td style=\"padding-left: 1em; padding-right: 1em; text-align: center; vertical-align: top\">6</td>\n",
       "        <td style=\"padding-left: 1em; padding-right: 1em; text-align: center; vertical-align: top\">0.0381362736225</td>\n",
       "    </tr>\n",
       "    <tr>\n",
       "        <td style=\"padding-left: 1em; padding-right: 1em; text-align: center; vertical-align: top\">8</td>\n",
       "        <td style=\"padding-left: 1em; padding-right: 1em; text-align: center; vertical-align: top\">0.942130148411</td>\n",
       "    </tr>\n",
       "    <tr>\n",
       "        <td style=\"padding-left: 1em; padding-right: 1em; text-align: center; vertical-align: top\">10</td>\n",
       "        <td style=\"padding-left: 1em; padding-right: 1em; text-align: center; vertical-align: top\">0.942130148411</td>\n",
       "    </tr>\n",
       "    <tr>\n",
       "        <td style=\"padding-left: 1em; padding-right: 1em; text-align: center; vertical-align: top\">11</td>\n",
       "        <td style=\"padding-left: 1em; padding-right: 1em; text-align: center; vertical-align: top\">0.0727698281407</td>\n",
       "    </tr>\n",
       "    <tr>\n",
       "        <td style=\"padding-left: 1em; padding-right: 1em; text-align: center; vertical-align: top\">13</td>\n",
       "        <td style=\"padding-left: 1em; padding-right: 1em; text-align: center; vertical-align: top\">0.0345226414502</td>\n",
       "    </tr>\n",
       "    <tr>\n",
       "        <td style=\"padding-left: 1em; padding-right: 1em; text-align: center; vertical-align: top\">14</td>\n",
       "        <td style=\"padding-left: 1em; padding-right: 1em; text-align: center; vertical-align: top\">0.959321796894</td>\n",
       "    </tr>\n",
       "    <tr>\n",
       "        <td style=\"padding-left: 1em; padding-right: 1em; text-align: center; vertical-align: top\">16</td>\n",
       "        <td style=\"padding-left: 1em; padding-right: 1em; text-align: center; vertical-align: top\">0.373547583818</td>\n",
       "    </tr>\n",
       "    <tr>\n",
       "        <td style=\"padding-left: 1em; padding-right: 1em; text-align: center; vertical-align: top\">17</td>\n",
       "        <td style=\"padding-left: 1em; padding-right: 1em; text-align: center; vertical-align: top\">0.942130148411</td>\n",
       "    </tr>\n",
       "    <tr>\n",
       "        <td style=\"padding-left: 1em; padding-right: 1em; text-align: center; vertical-align: top\">19</td>\n",
       "        <td style=\"padding-left: 1em; padding-right: 1em; text-align: center; vertical-align: top\">0.276469230652</td>\n",
       "    </tr>\n",
       "</table>\n",
       "[56 rows x 2 columns]<br/>Note: Only the head of the SFrame is printed.<br/>You can use print_rows(num_rows=m, num_columns=n) to print more rows and columns.\n",
       "</div>"
      ],
      "text/plain": [
       "Columns:\n",
       "\tAccountID\tint\n",
       "\tprobability\tfloat\n",
       "\n",
       "Rows: 56\n",
       "\n",
       "Data:\n",
       "+-----------+-----------------+\n",
       "| AccountID |   probability   |\n",
       "+-----------+-----------------+\n",
       "|     1     | 0.0396526828408 |\n",
       "|     6     | 0.0381362736225 |\n",
       "|     8     |  0.942130148411 |\n",
       "|     10    |  0.942130148411 |\n",
       "|     11    | 0.0727698281407 |\n",
       "|     13    | 0.0345226414502 |\n",
       "|     14    |  0.959321796894 |\n",
       "|     16    |  0.373547583818 |\n",
       "|     17    |  0.942130148411 |\n",
       "|     19    |  0.276469230652 |\n",
       "+-----------+-----------------+\n",
       "[56 rows x 2 columns]\n",
       "Note: Only the head of the SFrame is printed.\n",
       "You can use print_rows(num_rows=m, num_columns=n) to print more rows and columns."
      ]
     },
     "execution_count": 39,
     "metadata": {},
     "output_type": "execute_result"
    }
   ],
   "source": [
    "predictions"
   ]
  },
  {
   "cell_type": "code",
   "execution_count": null,
   "metadata": {
    "collapsed": true
   },
   "outputs": [],
   "source": [
    "# TODO:\n",
    "# LTV calculation based on churn predictions"
   ]
  },
  {
   "cell_type": "markdown",
   "metadata": {},
   "source": [
    "$$LTV = (Avg. Monthly Subscription Payment \\times Gross Margin IN \\%) / Churn Rate$$\n",
    "\n",
    "http://smallbusiness.chron.com/calculate-gross-profit-margin-percentage-4133.html"
   ]
  },
  {
   "cell_type": "code",
   "execution_count": null,
   "metadata": {
    "collapsed": true
   },
   "outputs": [],
   "source": []
  }
 ],
 "metadata": {
  "kernelspec": {
   "display_name": "Python 2",
   "language": "python",
   "name": "python2"
  },
  "language_info": {
   "codemirror_mode": {
    "name": "ipython",
    "version": 2
   },
   "file_extension": ".py",
   "mimetype": "text/x-python",
   "name": "python",
   "nbconvert_exporter": "python",
   "pygments_lexer": "ipython2",
   "version": "2.7.11"
  }
 },
 "nbformat": 4,
 "nbformat_minor": 0
}
