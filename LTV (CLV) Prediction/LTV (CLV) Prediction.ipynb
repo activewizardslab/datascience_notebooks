{
 "cells": [
  {
   "cell_type": "markdown",
   "metadata": {},
   "source": [
    "---\n",
    "\n",
    "# Customer Lifetime Value calculation\n",
    "\n",
    "---"
   ]
  },
  {
   "cell_type": "markdown",
   "metadata": {},
   "source": [
    "## Introduction"
   ]
  },
  {
   "cell_type": "markdown",
   "metadata": {},
   "source": [
    "Customer Lifetime Value (CLTV, LTV, CLV) is a very important metric for marketing and business. This is especially useful to calculate LTV for the e-commerce companies. Some experts consider that prevalence of the Cost to Acquare a Customer (CAC) over LTV is one of the major reasons of startups failures. In general, LTV is the total amount of profit received from a client during all the period of cooperation. If you know the LTV this helps to calculate ROI in more accurate way, improve the client retention strategy, client segmentation and clients support. \n",
    "\n",
    "In this notebook we will demonstrate how to explore the customers datasets and calculate LTV using diffrent ways to do this."
   ]
  },
  {
   "cell_type": "markdown",
   "metadata": {},
   "source": [
    "### Import modules\n",
    "\n",
    "We will start with importing all necessary libraries. Pandas is used to work with data in the convenient format of dataframes. Numpy is a library for fast numerical calculations. Datetime library is used to work with dates. Matplotlib will be used to illustrate some things. Eventually, we are using openpyxl to load the datasets from the Excel file. "
   ]
  },
  {
   "cell_type": "code",
   "execution_count": 1,
   "metadata": {
    "collapsed": true
   },
   "outputs": [],
   "source": [
    "import pandas as pd\n",
    "import numpy as np\n",
    "import datetime\n",
    "\n",
    "import matplotlib.pyplot as plt\n",
    "%matplotlib inline\n",
    "\n",
    "import openpyxl"
   ]
  },
  {
   "cell_type": "markdown",
   "metadata": {},
   "source": [
    "### 1. Reading file with data"
   ]
  },
  {
   "cell_type": "markdown",
   "metadata": {},
   "source": [
    "Below, we load the dataset (our internal dataset) and transform it to a convenient format."
   ]
  },
  {
   "cell_type": "code",
   "execution_count": 2,
   "metadata": {
    "scrolled": true
   },
   "outputs": [
    {
     "name": "stdout",
     "output_type": "stream",
     "text": [
      "DataFrame shape: (7030, 5)\n"
     ]
    }
   ],
   "source": [
    "wb = openpyxl.load_workbook('data.xlsx')\n",
    "sheet = wb.get_sheet_by_name('Value by Year')\n",
    "\n",
    "# Replace months names into its number\n",
    "MONTHS = {\n",
    "    'January': 1, 'February': 2, 'March': 3, 'April': 4, 'May': 5, 'June': 6, \n",
    "    'July': 7, 'August': 8, 'September': 9, 'October': 10, 'November': 11, 'December': 12\n",
    "}\n",
    "\n",
    "miss_rows = 14\n",
    "transition_years = []\n",
    "transition_months = []\n",
    "\n",
    "for row_num, row in enumerate(sheet.iter_rows(row_offset=miss_rows)):\n",
    "    if row_num == 0: # year row\n",
    "        for index, cell in enumerate(row):\n",
    "            if index > 3: \n",
    "                transition_years.append(int(cell.value))\n",
    "    elif row_num == 1: # month row\n",
    "        for index, cell in enumerate(row):\n",
    "            if index > 3:\n",
    "                transition_months.append(MONTHS[cell.value])\n",
    "        transition_dates_amount = len(transition_months)\n",
    "        df = pd.DataFrame(columns=['AccountID', 'Industry', 'TransitionYear', 'TransitionMonth', 'Value'])\n",
    "    else: # transition activity for various accounts\n",
    "        values = []\n",
    "        for index, cell in enumerate(row):\n",
    "            if index == 0:\n",
    "                account_id = int(cell.value)\n",
    "            elif index in (1,2):\n",
    "                pass\n",
    "            elif index == 3:\n",
    "                industry = cell.value\n",
    "            else:\n",
    "                values.append(cell.value)\n",
    "        if account_id > 140:\n",
    "            break\n",
    "        row_df = pd.DataFrame(\n",
    "            data={ \n",
    "                'AccountID':       [account_id]*transition_dates_amount, \n",
    "                'Industry':        [industry]*transition_dates_amount,\n",
    "                'TransitionYear':  transition_years,\n",
    "                'TransitionMonth': transition_months,\n",
    "                'Value':           values\n",
    "            }\n",
    "        )\n",
    "        df = df.append(row_df)\n",
    "        #print row_num, df.shape\n",
    "print(\"DataFrame shape:\", df.shape)"
   ]
  },
  {
   "cell_type": "markdown",
   "metadata": {},
   "source": [
    "Display DataFrame (table) content"
   ]
  },
  {
   "cell_type": "code",
   "execution_count": 3,
   "metadata": {},
   "outputs": [
    {
     "data": {
      "text/html": [
       "<div>\n",
       "<style>\n",
       "    .dataframe thead tr:only-child th {\n",
       "        text-align: right;\n",
       "    }\n",
       "\n",
       "    .dataframe thead th {\n",
       "        text-align: left;\n",
       "    }\n",
       "\n",
       "    .dataframe tbody tr th {\n",
       "        vertical-align: top;\n",
       "    }\n",
       "</style>\n",
       "<table border=\"1\" class=\"dataframe\">\n",
       "  <thead>\n",
       "    <tr style=\"text-align: right;\">\n",
       "      <th></th>\n",
       "      <th>AccountID</th>\n",
       "      <th>Industry</th>\n",
       "      <th>TransitionMonth</th>\n",
       "      <th>TransitionYear</th>\n",
       "      <th>Value</th>\n",
       "    </tr>\n",
       "  </thead>\n",
       "  <tbody>\n",
       "    <tr>\n",
       "      <th>0</th>\n",
       "      <td>140</td>\n",
       "      <td>Other</td>\n",
       "      <td>7</td>\n",
       "      <td>2008</td>\n",
       "      <td>NaN</td>\n",
       "    </tr>\n",
       "    <tr>\n",
       "      <th>1</th>\n",
       "      <td>140</td>\n",
       "      <td>Other</td>\n",
       "      <td>8</td>\n",
       "      <td>2008</td>\n",
       "      <td>NaN</td>\n",
       "    </tr>\n",
       "    <tr>\n",
       "      <th>2</th>\n",
       "      <td>140</td>\n",
       "      <td>Other</td>\n",
       "      <td>9</td>\n",
       "      <td>2008</td>\n",
       "      <td>NaN</td>\n",
       "    </tr>\n",
       "    <tr>\n",
       "      <th>3</th>\n",
       "      <td>140</td>\n",
       "      <td>Other</td>\n",
       "      <td>10</td>\n",
       "      <td>2008</td>\n",
       "      <td>NaN</td>\n",
       "    </tr>\n",
       "    <tr>\n",
       "      <th>4</th>\n",
       "      <td>140</td>\n",
       "      <td>Other</td>\n",
       "      <td>11</td>\n",
       "      <td>2008</td>\n",
       "      <td>NaN</td>\n",
       "    </tr>\n",
       "    <tr>\n",
       "      <th>5</th>\n",
       "      <td>140</td>\n",
       "      <td>Other</td>\n",
       "      <td>12</td>\n",
       "      <td>2008</td>\n",
       "      <td>1.0</td>\n",
       "    </tr>\n",
       "    <tr>\n",
       "      <th>6</th>\n",
       "      <td>140</td>\n",
       "      <td>Other</td>\n",
       "      <td>1</td>\n",
       "      <td>2009</td>\n",
       "      <td>958.0</td>\n",
       "    </tr>\n",
       "    <tr>\n",
       "      <th>7</th>\n",
       "      <td>140</td>\n",
       "      <td>Other</td>\n",
       "      <td>2</td>\n",
       "      <td>2009</td>\n",
       "      <td>46.0</td>\n",
       "    </tr>\n",
       "    <tr>\n",
       "      <th>8</th>\n",
       "      <td>140</td>\n",
       "      <td>Other</td>\n",
       "      <td>3</td>\n",
       "      <td>2009</td>\n",
       "      <td>906.0</td>\n",
       "    </tr>\n",
       "    <tr>\n",
       "      <th>9</th>\n",
       "      <td>140</td>\n",
       "      <td>Other</td>\n",
       "      <td>4</td>\n",
       "      <td>2009</td>\n",
       "      <td>208.0</td>\n",
       "    </tr>\n",
       "  </tbody>\n",
       "</table>\n",
       "</div>"
      ],
      "text/plain": [
       "  AccountID Industry TransitionMonth TransitionYear  Value\n",
       "0       140    Other               7           2008    NaN\n",
       "1       140    Other               8           2008    NaN\n",
       "2       140    Other               9           2008    NaN\n",
       "3       140    Other              10           2008    NaN\n",
       "4       140    Other              11           2008    NaN\n",
       "5       140    Other              12           2008    1.0\n",
       "6       140    Other               1           2009  958.0\n",
       "7       140    Other               2           2009   46.0\n",
       "8       140    Other               3           2009  906.0\n",
       "9       140    Other               4           2009  208.0"
      ]
     },
     "execution_count": 3,
     "metadata": {},
     "output_type": "execute_result"
    }
   ],
   "source": [
    "# Show the first 10 rows for AccountID == 140\n",
    "df[df['AccountID'] == 140].head(10)"
   ]
  },
  {
   "cell_type": "markdown",
   "metadata": {},
   "source": [
    "We can see that our dataframe consists of 5 columns (AccountID, Industry, TransitionMonth, TransitionYear, Value). There are 7030 rows in the dataframe. "
   ]
  },
  {
   "cell_type": "markdown",
   "metadata": {
    "collapsed": true
   },
   "source": [
    "### 2. Calculate LTV without libraries"
   ]
  },
  {
   "cell_type": "markdown",
   "metadata": {},
   "source": [
    "Let's now calculate LTV. Initially, we will compute total LTV by industry. We will not use any library first."
   ]
  },
  {
   "cell_type": "markdown",
   "metadata": {},
   "source": [
    "#### Total revenue by years\n",
    "\n",
    "Now we group revenues by year. You can see the revenue dynamics below."
   ]
  },
  {
   "cell_type": "code",
   "execution_count": 4,
   "metadata": {},
   "outputs": [
    {
     "data": {
      "text/plain": [
       "TransitionYear\n",
       "2008     8401.0\n",
       "2009    29270.0\n",
       "2010    32111.0\n",
       "2011    43982.0\n",
       "2012    48157.0\n",
       "2013    51276.0\n",
       "2014    57372.0\n",
       "2015    53858.0\n",
       "2016    23871.0\n",
       "Name: Value, dtype: float64"
      ]
     },
     "execution_count": 4,
     "metadata": {},
     "output_type": "execute_result"
    }
   ],
   "source": [
    "total_revenue = df.groupby('TransitionYear')['Value'].sum()\n",
    "total_revenue"
   ]
  },
  {
   "cell_type": "markdown",
   "metadata": {},
   "source": [
    "#### Accounts active in each year"
   ]
  },
  {
   "cell_type": "markdown",
   "metadata": {},
   "source": [
    "Here we need to select 3 group of accounts. First group is the active accounts. Active accounts are  the accounts where the purchase was occured in the current year. New active accounts means the new customers. Gone active accounts are the accounts that were active in the previous years but there was no purchase in the current years. "
   ]
  },
  {
   "cell_type": "code",
   "execution_count": 5,
   "metadata": {
    "collapsed": true
   },
   "outputs": [],
   "source": [
    "active_accounts = {\n",
    "    year: df[(df['TransitionYear'] == year) & (df['Value'] != 0) & (pd.notnull(df['Value']))]['AccountID']\n",
    "                .drop_duplicates().values \n",
    "    for year in range(2008, 2017)\n",
    "}\n",
    "\n",
    "# New active customers comparing with the previous year \n",
    "# (may contain those persons who have already been a customer, but who were not active one or more years before)\n",
    "new_active_accounts = {\n",
    "    year: df[(df['TransitionYear'] == year) & (df['Value'] != 0) & (pd.notnull(df['Value'])) & (~df['AccountID']\n",
    "                 .isin(active_accounts[year-1]))]['AccountID']\n",
    "                 .drop_duplicates().values \n",
    "    for year in range(2009, 2017)\n",
    "}\n",
    "new_active_accounts.update({ 2008: [] })\n",
    "\n",
    "# New active customers who join first time\n",
    "def join_sets(year):\n",
    "    res = set()\n",
    "    for i in range(2008, year):\n",
    "        res = res | set(active_accounts[i])\n",
    "    return res\n",
    "\n",
    "# Accounts joined first time (and wich were not active anywhere previously)\n",
    "pure_active_accounts = {\n",
    "    year: df[(df['TransitionYear'] == year) & (df['Value'] != 0) & (pd.notnull(df['Value'])) & (~df['AccountID']\n",
    "                   .isin(join_sets(year)))]['AccountID']\n",
    "                   .drop_duplicates().values \n",
    "    for year in range(2009, 2017)\n",
    "}\n",
    "pure_active_accounts.update({ 2008: [] })\n",
    "\n",
    "# How many accounts became not active\n",
    "gone_active_accounts = {year: list(set(active_accounts[year-1]) - set(active_accounts[year])) for year in range(2009, 2017)}\n",
    "gone_active_accounts.update({ 2008: [] })"
   ]
  },
  {
   "cell_type": "markdown",
   "metadata": {},
   "source": [
    "Display calculated values in the bar chart:"
   ]
  },
  {
   "cell_type": "code",
   "execution_count": 24,
   "metadata": {},
   "outputs": [
    {
     "data": {
      "image/png": "[encoded data removed]",
      "text/plain": [
       "<matplotlib.figure.Figure at 0x1c06ccd52e8>"
      ]
     },
     "metadata": {},
     "output_type": "display_data"
    }
   ],
   "source": [
    "def get_amount(dictionary):\n",
    "    keys = sorted(dictionary.keys())\n",
    "    return [len(dictionary[key]) for key in keys]\n",
    "\n",
    "N = len(range(2008, 2017))\n",
    "ind = np.arange(N)\n",
    "width = 0.225\n",
    "\n",
    "fig, ax = plt.subplots(figsize=(18, 5))\n",
    "active = ax.bar(ind, get_amount(active_accounts), width, color='g')\n",
    "new_active = ax.bar(ind + width, get_amount(new_active_accounts), width, color='r')\n",
    "gone_active = ax.bar(ind + 2*width, get_amount(gone_active_accounts), width, color='y')\n",
    "pure_active = ax.bar(ind + 3*width, get_amount(pure_active_accounts), width, color='b')\n",
    "\n",
    "ax.set_ylabel('Amount')\n",
    "ax.set_xticks(ind + 2*width)\n",
    "ax.set_xticklabels(sorted(active_accounts.keys()))\n",
    "\n",
    "ax.legend((active[0], new_active[0], gone_active[0], pure_active[0]), ('Active', 'New Active', 'Gone Active', 'Pure Active'))\n",
    "plt.show()"
   ]
  },
  {
   "cell_type": "markdown",
   "metadata": {
    "collapsed": true
   },
   "source": [
    "#### 1. Customer Retention Rate (CRR):\n",
    "$$CRR = ((E-N)/S)\\times100,$$\n",
    "\n",
    "where \n",
    "\n",
    "* $E$ is the number of customers at the end of a period;\n",
    "* $N$ is the number of new customers acquired during that period;\n",
    "* $S$ is the number of customers at the start of that period.\n",
    "\n",
    "\n",
    "Customer retention rate shows how many \"old\" active accounts remained active in the current year. We will use CRR in the LTV calculation."
   ]
  },
  {
   "cell_type": "code",
   "execution_count": 7,
   "metadata": {},
   "outputs": [
    {
     "name": "stdout",
     "output_type": "stream",
     "text": [
      "Number of customers at the end of a period:\n",
      " {2008: 29, 2009: 34, 2010: 31, 2011: 31, 2012: 29, 2013: 31, 2014: 30, 2015: 28, 2016: 20}\n",
      "\n",
      "Number of new customers acquired during that period:\n",
      " {2009: 16, 2010: 6, 2011: 6, 2012: 3, 2013: 4, 2014: 3, 2015: 3, 2016: 1, 2008: 0}\n",
      "\n",
      "Number of customers at the start of that period:\n",
      " {2009: 29, 2010: 34, 2011: 31, 2012: 31, 2013: 29, 2014: 31, 2015: 30, 2016: 28, 2008: 10}\n",
      "\n",
      "CRR: {2008: 2.9, 2009: 0.6206896551724138, 2010: 0.7352941176470589, 2011: 0.8064516129032258, 2012: 0.8387096774193549, 2013: 0.9310344827586207, 2014: 0.8709677419354839, 2015: 0.8333333333333334, 2016: 0.6785714285714286}\n"
     ]
    }
   ],
   "source": [
    "E = {\n",
    "    year: len(df[(df['TransitionYear'] == year) & (df['Value'] != 0) & (pd.notnull(df['Value']))]['AccountID']\n",
    "               .drop_duplicates().values) \n",
    "    for year in range(2008, 2017)\n",
    "}\n",
    "\n",
    "print(\"Number of customers at the end of a period:\\n\", E)\n",
    "\n",
    "N = {\n",
    "    year: len(df[(df['TransitionYear'] == year) & (df['Value'] != 0) & (pd.notnull(df['Value'])) & (~df['AccountID']\n",
    "               .isin(active_accounts[year-1]))]['AccountID']\n",
    "               .drop_duplicates().values)\n",
    "    for year in range(2009, 2017)\n",
    "}\n",
    "N.update({ 2008: 0 })\n",
    "\n",
    "print()\n",
    "print(\"Number of new customers acquired during that period:\\n\", N)\n",
    "\n",
    "S = {\n",
    "    year: len(df[(df['TransitionYear'] == year-1) & (df['Value'] != 0) & (pd.notnull(df['Value']))]['AccountID']\n",
    "               .drop_duplicates().values) \n",
    "    for year in range(2009, 2017)\n",
    "}\n",
    "\n",
    "S.update({ 2008: len(df[(df['TransitionYear'] == 2008) & (df['TransitionMonth'] == 8) & (df['Value'] != 0) & \n",
    "                        (pd.notnull(df['Value']))]['AccountID'].drop_duplicates().values) })\n",
    "\n",
    "print()\n",
    "print(\"Number of customers at the start of that period:\\n\", S)\n",
    "\n",
    "CRR = {}\n",
    "for year in range(2008, 2017):\n",
    "    CRR.update({year: (E[year] - N[year])/float(S[year])})\n",
    "    \n",
    "print()\n",
    "print(\"CRR:\", CRR)"
   ]
  },
  {
   "cell_type": "markdown",
   "metadata": {},
   "source": [
    "We can see, that the retention rate increased from 2009 year until 2013. However, in 2014-2016 the CRR dropped dramatically. This means that the company has some problems and the active clients refuse to cooperate further with the firm."
   ]
  },
  {
   "cell_type": "markdown",
   "metadata": {},
   "source": [
    "#### 2. Customer profit for each industry:"
   ]
  },
  {
   "cell_type": "markdown",
   "metadata": {},
   "source": [
    "We want to calculate total LTV by industry. So, we need to have a dictionary with total profits by industry and year. Below we created such dictionary:"
   ]
  },
  {
   "cell_type": "code",
   "execution_count": 8,
   "metadata": {},
   "outputs": [
    {
     "name": "stdout",
     "output_type": "stream",
     "text": [
      "Industries: ['Other' 'S' 'M' 'EO' 'D' 'SC' 'G' 'C' 'T']\n",
      "Total profit:\n",
      " {'Other': {2008: 895.0, 2009: 7762.0, 2010: 7258.0, 2011: 9063.0, 2012: 14761.0, 2013: 12103.0, 2014: 17103.0, 2015: 12497.0, 2016: 5374.0}, 'S': {2008: 5642.0, 2009: 15744.0, 2010: 19283.0, 2011: 27614.0, 2012: 24515.0, 2013: 31519.0, 2014: 31751.0, 2015: 33261.0, 2016: 14101.0}, 'M': {2008: 0.0, 2009: 0.0, 2010: 99.0, 2011: 122.0, 2012: 235.0, 2013: 102.0, 2014: 162.0, 2015: 40.0, 2016: 0.0}, 'EO': {2008: 846.0, 2009: 420.0, 2010: 1055.0, 2011: 854.0, 2012: 841.0, 2013: 966.0, 2014: 516.0, 2015: 517.0, 2016: 0.0}, 'D': {2008: 262.0, 2009: 1759.0, 2010: 1155.0, 2011: 2124.0, 2012: 2092.0, 2013: 1670.0, 2014: 2181.0, 2015: 1693.0, 2016: 1379.0}, 'SC': {2008: 705.0, 2009: 1564.0, 2010: 1189.0, 2011: 2828.0, 2012: 4185.0, 2013: 3034.0, 2014: 3067.0, 2015: 3344.0, 2016: 2083.0}, 'G': {2008: 0.0, 2009: 554.0, 2010: 337.0, 2011: 589.0, 2012: 559.0, 2013: 667.0, 2014: 592.0, 2015: 0.0, 2016: 0.0}, 'C': {2008: 18.0, 2009: 144.0, 2010: 474.0, 2011: 91.0, 2012: 161.0, 2013: 21.0, 2014: 452.0, 2015: 121.0, 2016: 0.0}, 'T': {2008: 33.0, 2009: 1323.0, 2010: 1261.0, 2011: 697.0, 2012: 808.0, 2013: 1194.0, 2014: 1548.0, 2015: 2385.0, 2016: 934.0}}\n"
     ]
    }
   ],
   "source": [
    "industries = df['Industry'].drop_duplicates().values\n",
    "print(\"Industries:\", industries)\n",
    "\n",
    "ind_profit = {ind: {} for ind in industries}\n",
    "for year in range(2008,2017):\n",
    "    for ind in industries:\n",
    "        x = df[(df['TransitionYear'] == year) & (df['Industry'] == ind)]['Value'].sum()\n",
    "        ind_profit[ind].update({ year: 0 if np.isnan(x) else x })\n",
    "        \n",
    "print(\"Total profit:\\n\", ind_profit)"
   ]
  },
  {
   "cell_type": "markdown",
   "metadata": {},
   "source": [
    "#### 3. Calculate LTV:\n",
    "$$LTV = \\sum_{t=1}^n r^t\\cdot\\frac{P_t}{(1+d)^t}$$\n",
    "\n",
    "where\n",
    "\n",
    "* $t$ is a period, e.g. the first year(t=1), the second year(t=2)\n",
    "* $n$ is the total number of periods the customer will stay before he/she finally churns\n",
    "* $r$ is the retention rate/possibility\n",
    "* $P_t$ is the profit the customer will contribute in the Period t\n",
    "* $d$ is the discount rate\n",
    "\n",
    "We are using the discounted cash flow model (DCF). According to this model, we should convert all our future cash flows (like profit) into the current, or present value. Future values are transformed into the present values by dividing the future value by the (1+discount rate). Discount rate is one or the most important values here, because it is difficult to choose it properly. Discount rate should be chosen in the way to take into account some important macroeconomic factors as well as own requirements of the economic unit. In our case we just set discount rate to be 10% (0.1). "
   ]
  },
  {
   "cell_type": "code",
   "execution_count": 9,
   "metadata": {},
   "outputs": [
    {
     "name": "stdout",
     "output_type": "stream",
     "text": [
      "CLV: {'Other': 22632.68, 'S': 61515.27, 'M': 198.82, 'EO': 3654.55, 'D': 3989.48, 'SC': 6710.76, 'G': 951.98, 'C': 411.69, 'T': 2306.28}\n"
     ]
    }
   ],
   "source": [
    "d = 0.1\n",
    "\n",
    "CLV = {}\n",
    "for ind in industries:\n",
    "    CLV.update({ \n",
    "        ind: round(sum(CRR[year]**(i+1) * ind_profit[ind][year]/(1+d)**(i+1) for i, year in enumerate(range(2008, 2017))), 2) \n",
    "    })\n",
    "    \n",
    "print(\"CLV:\", CLV)"
   ]
  },
  {
   "cell_type": "markdown",
   "metadata": {
    "collapsed": true
   },
   "source": [
    "You can see the total LTV by industry computed above. The worst LTV is in the \"C\" industry, while the best LTV is in \"Other\" category of industries."
   ]
  },
  {
   "cell_type": "markdown",
   "metadata": {},
   "source": [
    "### 3. Calculate LTV using Lifetimes library"
   ]
  },
  {
   "cell_type": "markdown",
   "metadata": {},
   "source": [
    "There is one good library for users analysis called [Lifetimes](https://github.com/CamDavidsonPilon/lifetimes). We will use this library to explore our dataframe and to calculate individual LTVs by the independent customers.\n",
    "\n",
    "First, we need to import a function which will create a summary table with useful statistics. Also, we need to change the format of date representation in the dataframe. Now, instead of separate year and month columns, we have single `TransitionDate` column. You can see top 5 records of the dataframe below."
   ]
  },
  {
   "cell_type": "code",
   "execution_count": 25,
   "metadata": {
    "scrolled": true
   },
   "outputs": [
    {
     "data": {
      "text/html": [
       "<div>\n",
       "<style>\n",
       "    .dataframe thead tr:only-child th {\n",
       "        text-align: right;\n",
       "    }\n",
       "\n",
       "    .dataframe thead th {\n",
       "        text-align: left;\n",
       "    }\n",
       "\n",
       "    .dataframe tbody tr th {\n",
       "        vertical-align: top;\n",
       "    }\n",
       "</style>\n",
       "<table border=\"1\" class=\"dataframe\">\n",
       "  <thead>\n",
       "    <tr style=\"text-align: right;\">\n",
       "      <th></th>\n",
       "      <th>AccountID</th>\n",
       "      <th>Industry</th>\n",
       "      <th>Value</th>\n",
       "      <th>TransitionDate</th>\n",
       "    </tr>\n",
       "  </thead>\n",
       "  <tbody>\n",
       "    <tr>\n",
       "      <th>5</th>\n",
       "      <td>140</td>\n",
       "      <td>Other</td>\n",
       "      <td>1.0</td>\n",
       "      <td>2008-12-01</td>\n",
       "    </tr>\n",
       "    <tr>\n",
       "      <th>6</th>\n",
       "      <td>140</td>\n",
       "      <td>Other</td>\n",
       "      <td>958.0</td>\n",
       "      <td>2009-01-01</td>\n",
       "    </tr>\n",
       "    <tr>\n",
       "      <th>7</th>\n",
       "      <td>140</td>\n",
       "      <td>Other</td>\n",
       "      <td>46.0</td>\n",
       "      <td>2009-02-01</td>\n",
       "    </tr>\n",
       "    <tr>\n",
       "      <th>8</th>\n",
       "      <td>140</td>\n",
       "      <td>Other</td>\n",
       "      <td>906.0</td>\n",
       "      <td>2009-03-01</td>\n",
       "    </tr>\n",
       "    <tr>\n",
       "      <th>9</th>\n",
       "      <td>140</td>\n",
       "      <td>Other</td>\n",
       "      <td>208.0</td>\n",
       "      <td>2009-04-01</td>\n",
       "    </tr>\n",
       "  </tbody>\n",
       "</table>\n",
       "</div>"
      ],
      "text/plain": [
       "  AccountID Industry  Value TransitionDate\n",
       "5       140    Other    1.0     2008-12-01\n",
       "6       140    Other  958.0     2009-01-01\n",
       "7       140    Other   46.0     2009-02-01\n",
       "8       140    Other  906.0     2009-03-01\n",
       "9       140    Other  208.0     2009-04-01"
      ]
     },
     "execution_count": 25,
     "metadata": {},
     "output_type": "execute_result"
    }
   ],
   "source": [
    "from lifetimes.utils import summary_data_from_transaction_data\n",
    "\n",
    "df_date = df.copy()\n",
    "df_date = df_date[(df['Value'] != 0) & (pd.notnull(df['Value']))]\n",
    "df_date['TransitionDate'] = df_date.apply(lambda x: datetime.datetime.strptime(str(int(x['TransitionYear'])) \n",
    "                                                          + str(int(x['TransitionMonth'])) + '1', \"%Y%m%d\").date(), axis=1)\n",
    "df_date.drop(['TransitionYear', 'TransitionMonth'], axis=1, inplace=True)\n",
    "df_date[df_date['AccountID'] == 140].head()"
   ]
  },
  {
   "cell_type": "code",
   "execution_count": 12,
   "metadata": {},
   "outputs": [
    {
     "name": "stdout",
     "output_type": "stream",
     "text": [
      "(56, 4)\n"
     ]
    },
    {
     "data": {
      "text/html": [
       "<div>\n",
       "<style>\n",
       "    .dataframe thead tr:only-child th {\n",
       "        text-align: right;\n",
       "    }\n",
       "\n",
       "    .dataframe thead th {\n",
       "        text-align: left;\n",
       "    }\n",
       "\n",
       "    .dataframe tbody tr th {\n",
       "        vertical-align: top;\n",
       "    }\n",
       "</style>\n",
       "<table border=\"1\" class=\"dataframe\">\n",
       "  <thead>\n",
       "    <tr style=\"text-align: right;\">\n",
       "      <th></th>\n",
       "      <th>frequency</th>\n",
       "      <th>recency</th>\n",
       "      <th>T</th>\n",
       "      <th>monetary_value</th>\n",
       "    </tr>\n",
       "    <tr>\n",
       "      <th>AccountID</th>\n",
       "      <th></th>\n",
       "      <th></th>\n",
       "      <th></th>\n",
       "      <th></th>\n",
       "    </tr>\n",
       "  </thead>\n",
       "  <tbody>\n",
       "    <tr>\n",
       "      <th>1</th>\n",
       "      <td>75.0</td>\n",
       "      <td>2861.0</td>\n",
       "      <td>2861.0</td>\n",
       "      <td>49.266667</td>\n",
       "    </tr>\n",
       "    <tr>\n",
       "      <th>6</th>\n",
       "      <td>63.0</td>\n",
       "      <td>2861.0</td>\n",
       "      <td>2861.0</td>\n",
       "      <td>181.682540</td>\n",
       "    </tr>\n",
       "    <tr>\n",
       "      <th>8</th>\n",
       "      <td>1.0</td>\n",
       "      <td>28.0</td>\n",
       "      <td>2646.0</td>\n",
       "      <td>270.000000</td>\n",
       "    </tr>\n",
       "    <tr>\n",
       "      <th>10</th>\n",
       "      <td>1.0</td>\n",
       "      <td>31.0</td>\n",
       "      <td>2861.0</td>\n",
       "      <td>157.000000</td>\n",
       "    </tr>\n",
       "    <tr>\n",
       "      <th>11</th>\n",
       "      <td>70.0</td>\n",
       "      <td>2373.0</td>\n",
       "      <td>2373.0</td>\n",
       "      <td>240.400000</td>\n",
       "    </tr>\n",
       "  </tbody>\n",
       "</table>\n",
       "</div>"
      ],
      "text/plain": [
       "           frequency  recency       T  monetary_value\n",
       "AccountID                                            \n",
       "1               75.0   2861.0  2861.0       49.266667\n",
       "6               63.0   2861.0  2861.0      181.682540\n",
       "8                1.0     28.0  2646.0      270.000000\n",
       "10               1.0     31.0  2861.0      157.000000\n",
       "11              70.0   2373.0  2373.0      240.400000"
      ]
     },
     "execution_count": 12,
     "metadata": {},
     "output_type": "execute_result"
    }
   ],
   "source": [
    "summary = summary_data_from_transaction_data(\n",
    "    df_date, \n",
    "    customer_id_col='AccountID', \n",
    "    datetime_col='TransitionDate',\n",
    "    monetary_value_col='Value'\n",
    ")\n",
    "\n",
    "print(summary.shape)\n",
    "summary.head()"
   ]
  },
  {
   "cell_type": "markdown",
   "metadata": {},
   "source": [
    "Above, we can see the output of the `summary_data_from_transaction_data` function from the Lifetimes library. \n",
    "\n",
    "\n",
    "Frequency means the number of the *repeated* purchases. So, total number of purchases is the frequency + 1. \n",
    "\n",
    "T means the age of the customer. The age of the customer is the time between the first purchase and the end of the analysing period.\n",
    "\n",
    "Recency is the age of the customer on the moment of the last purchase. So, it is the time between the first and last purchases. \n",
    "\n",
    "Below we filter out the records where the recency is 0 (no repeated purchases). "
   ]
  },
  {
   "cell_type": "code",
   "execution_count": 14,
   "metadata": {},
   "outputs": [
    {
     "name": "stdout",
     "output_type": "stream",
     "text": [
      "(53, 4)\n"
     ]
    },
    {
     "data": {
      "text/html": [
       "<div>\n",
       "<style>\n",
       "    .dataframe thead tr:only-child th {\n",
       "        text-align: right;\n",
       "    }\n",
       "\n",
       "    .dataframe thead th {\n",
       "        text-align: left;\n",
       "    }\n",
       "\n",
       "    .dataframe tbody tr th {\n",
       "        vertical-align: top;\n",
       "    }\n",
       "</style>\n",
       "<table border=\"1\" class=\"dataframe\">\n",
       "  <thead>\n",
       "    <tr style=\"text-align: right;\">\n",
       "      <th></th>\n",
       "      <th>frequency</th>\n",
       "      <th>recency</th>\n",
       "      <th>T</th>\n",
       "      <th>monetary_value</th>\n",
       "    </tr>\n",
       "    <tr>\n",
       "      <th>AccountID</th>\n",
       "      <th></th>\n",
       "      <th></th>\n",
       "      <th></th>\n",
       "      <th></th>\n",
       "    </tr>\n",
       "  </thead>\n",
       "  <tbody>\n",
       "    <tr>\n",
       "      <th>1</th>\n",
       "      <td>75.0</td>\n",
       "      <td>2861.0</td>\n",
       "      <td>2861.0</td>\n",
       "      <td>49.266667</td>\n",
       "    </tr>\n",
       "    <tr>\n",
       "      <th>6</th>\n",
       "      <td>63.0</td>\n",
       "      <td>2861.0</td>\n",
       "      <td>2861.0</td>\n",
       "      <td>181.682540</td>\n",
       "    </tr>\n",
       "    <tr>\n",
       "      <th>8</th>\n",
       "      <td>1.0</td>\n",
       "      <td>28.0</td>\n",
       "      <td>2646.0</td>\n",
       "      <td>270.000000</td>\n",
       "    </tr>\n",
       "    <tr>\n",
       "      <th>10</th>\n",
       "      <td>1.0</td>\n",
       "      <td>31.0</td>\n",
       "      <td>2861.0</td>\n",
       "      <td>157.000000</td>\n",
       "    </tr>\n",
       "    <tr>\n",
       "      <th>11</th>\n",
       "      <td>70.0</td>\n",
       "      <td>2373.0</td>\n",
       "      <td>2373.0</td>\n",
       "      <td>240.400000</td>\n",
       "    </tr>\n",
       "  </tbody>\n",
       "</table>\n",
       "</div>"
      ],
      "text/plain": [
       "           frequency  recency       T  monetary_value\n",
       "AccountID                                            \n",
       "1               75.0   2861.0  2861.0       49.266667\n",
       "6               63.0   2861.0  2861.0      181.682540\n",
       "8                1.0     28.0  2646.0      270.000000\n",
       "10               1.0     31.0  2861.0      157.000000\n",
       "11              70.0   2373.0  2373.0      240.400000"
      ]
     },
     "execution_count": 14,
     "metadata": {},
     "output_type": "execute_result"
    }
   ],
   "source": [
    "returning_customers_summary = summary[summary['frequency']>0]\n",
    "print(returning_customers_summary.shape)\n",
    "returning_customers_summary.head()"
   ]
  },
  {
   "cell_type": "markdown",
   "metadata": {},
   "source": [
    "To calculate the LTV we will use Gamma-Gamma model. This model assumes that there is no relationship between the `monetary_value` and `frequency`. So, we need to check if this hypothesis is true enough:"
   ]
  },
  {
   "cell_type": "code",
   "execution_count": 15,
   "metadata": {},
   "outputs": [
    {
     "data": {
      "text/html": [
       "<div>\n",
       "<style>\n",
       "    .dataframe thead tr:only-child th {\n",
       "        text-align: right;\n",
       "    }\n",
       "\n",
       "    .dataframe thead th {\n",
       "        text-align: left;\n",
       "    }\n",
       "\n",
       "    .dataframe tbody tr th {\n",
       "        vertical-align: top;\n",
       "    }\n",
       "</style>\n",
       "<table border=\"1\" class=\"dataframe\">\n",
       "  <thead>\n",
       "    <tr style=\"text-align: right;\">\n",
       "      <th></th>\n",
       "      <th>monetary_value</th>\n",
       "      <th>frequency</th>\n",
       "    </tr>\n",
       "  </thead>\n",
       "  <tbody>\n",
       "    <tr>\n",
       "      <th>monetary_value</th>\n",
       "      <td>1.000000</td>\n",
       "      <td>0.288765</td>\n",
       "    </tr>\n",
       "    <tr>\n",
       "      <th>frequency</th>\n",
       "      <td>0.288765</td>\n",
       "      <td>1.000000</td>\n",
       "    </tr>\n",
       "  </tbody>\n",
       "</table>\n",
       "</div>"
      ],
      "text/plain": [
       "                monetary_value  frequency\n",
       "monetary_value        1.000000   0.288765\n",
       "frequency             0.288765   1.000000"
      ]
     },
     "execution_count": 15,
     "metadata": {},
     "output_type": "execute_result"
    }
   ],
   "source": [
    "returning_customers_summary[['monetary_value', 'frequency']].corr()"
   ]
  },
  {
   "cell_type": "markdown",
   "metadata": {},
   "source": [
    "Here we fit the model:"
   ]
  },
  {
   "cell_type": "code",
   "execution_count": 17,
   "metadata": {},
   "outputs": [
    {
     "name": "stdout",
     "output_type": "stream",
     "text": [
      "<lifetimes.GammaGammaFitter: fitted with 53 subjects, p: 0.92, q: 1.93, v: 238.28>\n"
     ]
    }
   ],
   "source": [
    "from lifetimes import GammaGammaFitter\n",
    "\n",
    "ggf = GammaGammaFitter(penalizer_coef = 0)\n",
    "ggf.fit(returning_customers_summary['frequency'], \n",
    "        returning_customers_summary['monetary_value'])\n",
    "print(ggf)"
   ]
  },
  {
   "cell_type": "markdown",
   "metadata": {},
   "source": [
    "Now we calculate the average expected profit by client using the `summary` dataset:"
   ]
  },
  {
   "cell_type": "code",
   "execution_count": 18,
   "metadata": {},
   "outputs": [
    {
     "name": "stdout",
     "output_type": "stream",
     "text": [
      "AccountID\n",
      "1      51.744819\n",
      "6     182.529546\n",
      "8     252.486719\n",
      "10    196.354812\n",
      "11    240.325816\n",
      "dtype: float64\n"
     ]
    }
   ],
   "source": [
    "print(ggf.conditional_expected_average_profit(\n",
    "        summary['frequency'],\n",
    "        summary['monetary_value']\n",
    "    ).head())"
   ]
  },
  {
   "cell_type": "code",
   "execution_count": 19,
   "metadata": {},
   "outputs": [
    {
     "data": {
      "text/plain": [
       "3703.0"
      ]
     },
     "execution_count": 19,
     "metadata": {},
     "output_type": "execute_result"
    }
   ],
   "source": [
    "x = df[(df['Value'] != 0) & (pd.notnull(df['Value'])) & (df['AccountID'] == 1)]['Value']\n",
    "x.values.sum()"
   ]
  },
  {
   "cell_type": "markdown",
   "metadata": {},
   "source": [
    "Compare the expected conditional average profit and the actual average profit:"
   ]
  },
  {
   "cell_type": "code",
   "execution_count": 20,
   "metadata": {},
   "outputs": [
    {
     "name": "stdout",
     "output_type": "stream",
     "text": [
      "Expected conditional average profit: 202.02205261227527, Average profit: 185.64059403561106\n"
     ]
    }
   ],
   "source": [
    "print(\"Expected conditional average profit: %s, Average profit: %s\" % (\n",
    "    ggf.conditional_expected_average_profit(\n",
    "        summary['frequency'],\n",
    "        summary['monetary_value']\n",
    "    ).mean(),\n",
    "    summary[summary['frequency']>0]['monetary_value'].mean()\n",
    "))"
   ]
  },
  {
   "cell_type": "markdown",
   "metadata": {},
   "source": [
    "Eventually, we are able to calculate customer lifetime value. In Lifetimes, we should use `customer_lifetime_value()` function. Also, there is a need to specify all necessary parameters. "
   ]
  },
  {
   "cell_type": "code",
   "execution_count": 23,
   "metadata": {},
   "outputs": [
    {
     "name": "stdout",
     "output_type": "stream",
     "text": [
      "AccountID\n",
      "1      57.205414\n",
      "6     170.019202\n",
      "8       0.028537\n",
      "10      0.018356\n",
      "11    297.473536\n",
      "13     79.559016\n",
      "14      1.758953\n",
      "16     17.427550\n",
      "17      0.002490\n",
      "19     38.337719\n",
      "Name: clv, dtype: float64\n"
     ]
    },
    {
     "name": "stderr",
     "output_type": "stream",
     "text": [
      "C:\\Users\\admin\\Anaconda3\\lib\\site-packages\\lifetimes\\fitters\\beta_geo_fitter.py:182: RuntimeWarning: invalid value encountered in log\n",
      "  ln_hyp_term = np.log(hyp2f1(_a, _b, _c, _z))\n",
      "C:\\Users\\admin\\Anaconda3\\lib\\site-packages\\lifetimes\\fitters\\beta_geo_fitter.py:186: RuntimeWarning: invalid value encountered in log\n",
      "  ln_hyp_term_alt = np.log(hyp2f1(_c - _a, _c - _b, _c, _z)) + \\\n"
     ]
    }
   ],
   "source": [
    "from lifetimes import BetaGeoFitter\n",
    "\n",
    "# similar API to scikit-learn and lifelines.\n",
    "bgf = BetaGeoFitter(penalizer_coef=0.0)\n",
    "\n",
    "# fit the BG model to the summary_with_money_value dataset\n",
    "bgf.fit(summary['frequency'], summary['recency'], summary['T'])\n",
    "\n",
    "print(ggf.customer_lifetime_value(\n",
    "    bgf, #the model to use to predict the number of future transactions\n",
    "    summary['frequency'],\n",
    "    summary['recency'],\n",
    "    summary['T'],\n",
    "    summary['monetary_value'],\n",
    "    time=12, # months\n",
    "    discount_rate=0.7\n",
    ").head(10))"
   ]
  },
  {
   "cell_type": "markdown",
   "metadata": {},
   "source": [
    "## Conclusion"
   ]
  },
  {
   "cell_type": "markdown",
   "metadata": {},
   "source": [
    "In this notebook we have described how we can calculate Customer Lifetime Value using Lifetimes library as well as only with Python and common libraries like Numpy and Pandas. Also, there were introduced some other useful tools of the Lifetimes library. Anybody can use the code from here in order to compute the LTV on their data. All is needed is to keep the same data format.\n",
    "\n",
    "*Tags: Customer Lifetime Value, Lifetimes, Python, business metrics, data analytics.*"
   ]
  },
  {
   "cell_type": "code",
   "execution_count": null,
   "metadata": {
    "collapsed": true
   },
   "outputs": [],
   "source": []
  }
 ],
 "metadata": {
  "kernelspec": {
   "display_name": "Python 3",
   "language": "python",
   "name": "python3"
  },
  "language_info": {
   "codemirror_mode": {
    "name": "ipython",
    "version": 3
   },
   "file_extension": ".py",
   "mimetype": "text/x-python",
   "name": "python",
   "nbconvert_exporter": "python",
   "pygments_lexer": "ipython3",
   "version": "3.5.3"
  }
 },
 "nbformat": 4,
 "nbformat_minor": 1
}
